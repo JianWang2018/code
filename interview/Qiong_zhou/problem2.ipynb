{
 "cells": [
  {
   "cell_type": "code",
   "execution_count": 3,
   "metadata": {
    "collapsed": false
   },
   "outputs": [],
   "source": [
    "import pandas as pd \n"
   ]
  },
  {
   "cell_type": "markdown",
   "metadata": {},
   "source": [
    "# Use test sample"
   ]
  },
  {
   "cell_type": "code",
   "execution_count": 48,
   "metadata": {
    "collapsed": false,
    "scrolled": true
   },
   "outputs": [],
   "source": [
    "db= pd.read_csv(\"data.csv\",sep=\",\",header=\"infer\")\n",
    "row_id_pairs=pd.read_csv(\"row_id_pairs_test.txt\",sep=\"|\",header=-1)\n",
    "row_id_pairs_list=[row_id_pairs.iloc[i].values.tolist() for i in range(len(row_id_pairs))]"
   ]
  },
  {
   "cell_type": "code",
   "execution_count": 49,
   "metadata": {
    "collapsed": false
   },
   "outputs": [
    {
     "data": {
      "text/html": [
       "<div>\n",
       "<table border=\"1\" class=\"dataframe\">\n",
       "  <thead>\n",
       "    <tr style=\"text-align: right;\">\n",
       "      <th></th>\n",
       "      <th>row_id</th>\n",
       "      <th>NAME</th>\n",
       "      <th>STREET</th>\n",
       "      <th>CITY</th>\n",
       "      <th>STATE</th>\n",
       "      <th>ZIPCODE</th>\n",
       "      <th>block_id</th>\n",
       "    </tr>\n",
       "  </thead>\n",
       "  <tbody>\n",
       "    <tr>\n",
       "      <th>0</th>\n",
       "      <td>1</td>\n",
       "      <td>Howard Love</td>\n",
       "      <td>6398 LONG POINT ROAD</td>\n",
       "      <td>Cicero</td>\n",
       "      <td>NY</td>\n",
       "      <td>13029</td>\n",
       "      <td>1001</td>\n",
       "    </tr>\n",
       "    <tr>\n",
       "      <th>1</th>\n",
       "      <td>2</td>\n",
       "      <td>Nicole Lunsford</td>\n",
       "      <td>816 S TAYLOR AVE</td>\n",
       "      <td>OGDEN CITY</td>\n",
       "      <td>UT</td>\n",
       "      <td>84404</td>\n",
       "      <td>1001</td>\n",
       "    </tr>\n",
       "    <tr>\n",
       "      <th>2</th>\n",
       "      <td>3</td>\n",
       "      <td>Daniel Cross</td>\n",
       "      <td>1031 ARTHUR MOORE DR</td>\n",
       "      <td>GREEN COVE SPRINGS</td>\n",
       "      <td>FL</td>\n",
       "      <td>NaN</td>\n",
       "      <td>1001</td>\n",
       "    </tr>\n",
       "    <tr>\n",
       "      <th>3</th>\n",
       "      <td>4</td>\n",
       "      <td>Sharon Saldana</td>\n",
       "      <td>JACKSON</td>\n",
       "      <td>IL</td>\n",
       "      <td>IL</td>\n",
       "      <td>NaN</td>\n",
       "      <td>1001</td>\n",
       "    </tr>\n",
       "    <tr>\n",
       "      <th>4</th>\n",
       "      <td>5</td>\n",
       "      <td>Patrick Saenz</td>\n",
       "      <td>83 ASTER DR 1715</td>\n",
       "      <td>IL</td>\n",
       "      <td>IL</td>\n",
       "      <td>NaN</td>\n",
       "      <td>1001</td>\n",
       "    </tr>\n",
       "    <tr>\n",
       "      <th>5</th>\n",
       "      <td>6</td>\n",
       "      <td>June Downin</td>\n",
       "      <td>69-12 62 AVENUE</td>\n",
       "      <td>NEW YORK</td>\n",
       "      <td>NY</td>\n",
       "      <td>11379</td>\n",
       "      <td>1001</td>\n",
       "    </tr>\n",
       "    <tr>\n",
       "      <th>6</th>\n",
       "      <td>7</td>\n",
       "      <td>Betty Johnson</td>\n",
       "      <td>20747 DYERS PASS</td>\n",
       "      <td>FARMINGTON</td>\n",
       "      <td>MN</td>\n",
       "      <td>55024</td>\n",
       "      <td>1001</td>\n",
       "    </tr>\n",
       "    <tr>\n",
       "      <th>7</th>\n",
       "      <td>8</td>\n",
       "      <td>Bill Chism</td>\n",
       "      <td>869 COUNTY ROAD D  EAST Unit 301</td>\n",
       "      <td>Saint Paul</td>\n",
       "      <td>MN</td>\n",
       "      <td>55109</td>\n",
       "      <td>1001</td>\n",
       "    </tr>\n",
       "    <tr>\n",
       "      <th>8</th>\n",
       "      <td>9</td>\n",
       "      <td>Jon Lee</td>\n",
       "      <td>12537 CARMEL CT</td>\n",
       "      <td>HUNTLEY</td>\n",
       "      <td>IL</td>\n",
       "      <td>60142</td>\n",
       "      <td>1001</td>\n",
       "    </tr>\n",
       "    <tr>\n",
       "      <th>9</th>\n",
       "      <td>10</td>\n",
       "      <td>George Goldberg</td>\n",
       "      <td>18007 O HARA CIR</td>\n",
       "      <td>OLNEY</td>\n",
       "      <td>MD</td>\n",
       "      <td>20832</td>\n",
       "      <td>1001</td>\n",
       "    </tr>\n",
       "  </tbody>\n",
       "</table>\n",
       "</div>"
      ],
      "text/plain": [
       "   row_id             NAME                            STREET  \\\n",
       "0       1      Howard Love              6398 LONG POINT ROAD   \n",
       "1       2  Nicole Lunsford                  816 S TAYLOR AVE   \n",
       "2       3     Daniel Cross              1031 ARTHUR MOORE DR   \n",
       "3       4   Sharon Saldana                           JACKSON   \n",
       "4       5    Patrick Saenz                  83 ASTER DR 1715   \n",
       "5       6      June Downin                   69-12 62 AVENUE   \n",
       "6       7    Betty Johnson                  20747 DYERS PASS   \n",
       "7       8       Bill Chism  869 COUNTY ROAD D  EAST Unit 301   \n",
       "8       9          Jon Lee                   12537 CARMEL CT   \n",
       "9      10  George Goldberg                  18007 O HARA CIR   \n",
       "\n",
       "                 CITY STATE ZIPCODE  block_id  \n",
       "0              Cicero    NY   13029      1001  \n",
       "1          OGDEN CITY    UT   84404      1001  \n",
       "2  GREEN COVE SPRINGS    FL     NaN      1001  \n",
       "3                  IL    IL     NaN      1001  \n",
       "4                  IL    IL     NaN      1001  \n",
       "5            NEW YORK    NY   11379      1001  \n",
       "6          FARMINGTON    MN   55024      1001  \n",
       "7          Saint Paul    MN   55109      1001  \n",
       "8             HUNTLEY    IL   60142      1001  \n",
       "9               OLNEY    MD   20832      1001  "
      ]
     },
     "execution_count": 49,
     "metadata": {},
     "output_type": "execute_result"
    }
   ],
   "source": [
    "db.head(10)"
   ]
  },
  {
   "cell_type": "code",
   "execution_count": 39,
   "metadata": {
    "collapsed": false
   },
   "outputs": [
    {
     "data": {
      "text/html": [
       "<div>\n",
       "<table border=\"1\" class=\"dataframe\">\n",
       "  <thead>\n",
       "    <tr style=\"text-align: right;\">\n",
       "      <th></th>\n",
       "      <th>46731</th>\n",
       "      <th>46967</th>\n",
       "    </tr>\n",
       "  </thead>\n",
       "  <tbody>\n",
       "    <tr>\n",
       "      <th>0</th>\n",
       "      <td>31040</td>\n",
       "      <td>41743</td>\n",
       "    </tr>\n",
       "    <tr>\n",
       "      <th>1</th>\n",
       "      <td>28106</td>\n",
       "      <td>38917</td>\n",
       "    </tr>\n",
       "    <tr>\n",
       "      <th>2</th>\n",
       "      <td>34096</td>\n",
       "      <td>42075</td>\n",
       "    </tr>\n",
       "    <tr>\n",
       "      <th>3</th>\n",
       "      <td>47204</td>\n",
       "      <td>47551</td>\n",
       "    </tr>\n",
       "    <tr>\n",
       "      <th>4</th>\n",
       "      <td>36720</td>\n",
       "      <td>22043</td>\n",
       "    </tr>\n",
       "    <tr>\n",
       "      <th>5</th>\n",
       "      <td>5098</td>\n",
       "      <td>6378</td>\n",
       "    </tr>\n",
       "    <tr>\n",
       "      <th>6</th>\n",
       "      <td>42296</td>\n",
       "      <td>22850</td>\n",
       "    </tr>\n",
       "    <tr>\n",
       "      <th>7</th>\n",
       "      <td>1034</td>\n",
       "      <td>37882</td>\n",
       "    </tr>\n",
       "    <tr>\n",
       "      <th>8</th>\n",
       "      <td>21304</td>\n",
       "      <td>13550</td>\n",
       "    </tr>\n",
       "  </tbody>\n",
       "</table>\n",
       "</div>"
      ],
      "text/plain": [
       "   46731  46967\n",
       "0  31040  41743\n",
       "1  28106  38917\n",
       "2  34096  42075\n",
       "3  47204  47551\n",
       "4  36720  22043\n",
       "5   5098   6378\n",
       "6  42296  22850\n",
       "7   1034  37882\n",
       "8  21304  13550"
      ]
     },
     "execution_count": 39,
     "metadata": {},
     "output_type": "execute_result"
    }
   ],
   "source": [
    "row_id_pairs"
   ]
  },
  {
   "cell_type": "code",
   "execution_count": 32,
   "metadata": {
    "collapsed": false,
    "scrolled": true
   },
   "outputs": [
    {
     "data": {
      "text/plain": [
       "[[32689, 19576],\n",
       " [46731, 46967],\n",
       " [31040, 41743],\n",
       " [28106, 38917],\n",
       " [34096, 42075],\n",
       " [47204, 47551],\n",
       " [36720, 22043],\n",
       " [5098, 6378],\n",
       " [42296, 22850],\n",
       " [1034, 37882],\n",
       " [21304, 13550]]"
      ]
     },
     "execution_count": 32,
     "metadata": {},
     "output_type": "execute_result"
    }
   ],
   "source": [
    "row_id_pairs_list"
   ]
  },
  {
   "cell_type": "code",
   "execution_count": 110,
   "metadata": {
    "collapsed": true
   },
   "outputs": [],
   "source": [
    "\n",
    "def create_entity_pairs(db, row_id_pairs):\n",
    "    data = pd.DataFrame()\n",
    "    for pair in row_id_pairs:\n",
    "        row_left = db[db['row_id'] == pair[0]].reset_index(drop=True)\n",
    "        if isinstance(row_id_pairs, list):\n",
    "            row_left = row_left.drop('block_id', axis=1)\n",
    "        row_right = db[db['row_id'] == pair[1]].reset_index(drop=True)\n",
    "        row = pd.concat([row_left, row_right], axis=1)\n",
    "        data = data.append(row)\n",
    "    return data"
   ]
  },
  {
   "cell_type": "code",
   "execution_count": 111,
   "metadata": {
    "collapsed": false
   },
   "outputs": [],
   "source": [
    "res= create_entity_pairs(db,row_id_pairs_list)"
   ]
  },
  {
   "cell_type": "code",
   "execution_count": 52,
   "metadata": {
    "collapsed": false
   },
   "outputs": [
    {
     "data": {
      "text/html": [
       "<div>\n",
       "<table border=\"1\" class=\"dataframe\">\n",
       "  <thead>\n",
       "    <tr style=\"text-align: right;\">\n",
       "      <th></th>\n",
       "      <th>row_id</th>\n",
       "      <th>NAME</th>\n",
       "      <th>STREET</th>\n",
       "      <th>CITY</th>\n",
       "      <th>STATE</th>\n",
       "      <th>ZIPCODE</th>\n",
       "      <th>row_id</th>\n",
       "      <th>NAME</th>\n",
       "      <th>STREET</th>\n",
       "      <th>CITY</th>\n",
       "      <th>STATE</th>\n",
       "      <th>ZIPCODE</th>\n",
       "      <th>block_id</th>\n",
       "    </tr>\n",
       "  </thead>\n",
       "  <tbody>\n",
       "    <tr>\n",
       "      <th>0</th>\n",
       "      <td>32689</td>\n",
       "      <td>Amy Gilbert</td>\n",
       "      <td>1077 S WORTH ST</td>\n",
       "      <td>Birmingham</td>\n",
       "      <td>MI</td>\n",
       "      <td>48009</td>\n",
       "      <td>19576</td>\n",
       "      <td>James Wong</td>\n",
       "      <td>4623 S VALLEY HAVEN CT PUD</td>\n",
       "      <td>WEST VALLEY CITY</td>\n",
       "      <td>UT</td>\n",
       "      <td>84120</td>\n",
       "      <td>1001</td>\n",
       "    </tr>\n",
       "    <tr>\n",
       "      <th>0</th>\n",
       "      <td>46731</td>\n",
       "      <td>Roger Miller</td>\n",
       "      <td>443 10TH ST</td>\n",
       "      <td>SEMCOG</td>\n",
       "      <td>MI</td>\n",
       "      <td>48060</td>\n",
       "      <td>46967</td>\n",
       "      <td>Thomas Wood</td>\n",
       "      <td>28 HILLSIDE RD</td>\n",
       "      <td>NEWTON HIGHLANDS</td>\n",
       "      <td>MA</td>\n",
       "      <td>2461</td>\n",
       "      <td>1001</td>\n",
       "    </tr>\n",
       "    <tr>\n",
       "      <th>0</th>\n",
       "      <td>31040</td>\n",
       "      <td>James Utecht</td>\n",
       "      <td>5161 CHERRY BLOSSOM WAY</td>\n",
       "      <td>COLUMBUS</td>\n",
       "      <td>OH</td>\n",
       "      <td>43230</td>\n",
       "      <td>41743</td>\n",
       "      <td>Alexander Rhinehart</td>\n",
       "      <td>8123 MARSH</td>\n",
       "      <td>Chanhassen</td>\n",
       "      <td>MN</td>\n",
       "      <td>55317</td>\n",
       "      <td>1001</td>\n",
       "    </tr>\n",
       "    <tr>\n",
       "      <th>0</th>\n",
       "      <td>28106</td>\n",
       "      <td>Tiffany Story</td>\n",
       "      <td>15 GILBERT ROAD</td>\n",
       "      <td>BREWSTER</td>\n",
       "      <td>MA</td>\n",
       "      <td>2631</td>\n",
       "      <td>38917</td>\n",
       "      <td>Gina Burch</td>\n",
       "      <td>58301 PEACH RD</td>\n",
       "      <td>IN</td>\n",
       "      <td>IN</td>\n",
       "      <td>NaN</td>\n",
       "      <td>1001</td>\n",
       "    </tr>\n",
       "    <tr>\n",
       "      <th>0</th>\n",
       "      <td>34096</td>\n",
       "      <td>Sadie Matherly</td>\n",
       "      <td>1223 POPLAR RUN DR</td>\n",
       "      <td>MONTGOMERY</td>\n",
       "      <td>MD</td>\n",
       "      <td>NaN</td>\n",
       "      <td>42075</td>\n",
       "      <td>Jane Mcburney</td>\n",
       "      <td>505 NW 13TH ST</td>\n",
       "      <td>GRIMES</td>\n",
       "      <td>IA</td>\n",
       "      <td>50111</td>\n",
       "      <td>1001</td>\n",
       "    </tr>\n",
       "    <tr>\n",
       "      <th>0</th>\n",
       "      <td>47204</td>\n",
       "      <td>Alexander Kopf</td>\n",
       "      <td>7473 COLLINS RANCH CT</td>\n",
       "      <td>San Diego</td>\n",
       "      <td>CA</td>\n",
       "      <td>92130</td>\n",
       "      <td>47551</td>\n",
       "      <td>John Williams</td>\n",
       "      <td>8325 KIM RD</td>\n",
       "      <td>JACKSONVILLE</td>\n",
       "      <td>FL</td>\n",
       "      <td>32217</td>\n",
       "      <td>1001</td>\n",
       "    </tr>\n",
       "    <tr>\n",
       "      <th>0</th>\n",
       "      <td>36720</td>\n",
       "      <td>Carl Flowers</td>\n",
       "      <td>7326 N LILAC LN</td>\n",
       "      <td>MICHIGAN CITY</td>\n",
       "      <td>IN</td>\n",
       "      <td>46360</td>\n",
       "      <td>22043</td>\n",
       "      <td>Brendan Lueck</td>\n",
       "      <td>6301 MISTY WOOD WAY</td>\n",
       "      <td>SACRAMENTO</td>\n",
       "      <td>CA</td>\n",
       "      <td>95621</td>\n",
       "      <td>1001</td>\n",
       "    </tr>\n",
       "    <tr>\n",
       "      <th>0</th>\n",
       "      <td>5098</td>\n",
       "      <td>Dorothy Williams</td>\n",
       "      <td>7420 QUAIL HEIGHTS AVE</td>\n",
       "      <td>CLARK</td>\n",
       "      <td>NV</td>\n",
       "      <td>NaN</td>\n",
       "      <td>6378</td>\n",
       "      <td>Tom Font</td>\n",
       "      <td>912 EMMET ST</td>\n",
       "      <td>ST LOUIS</td>\n",
       "      <td>MO</td>\n",
       "      <td>NaN</td>\n",
       "      <td>1001</td>\n",
       "    </tr>\n",
       "    <tr>\n",
       "      <th>0</th>\n",
       "      <td>42296</td>\n",
       "      <td>Enoch Peck</td>\n",
       "      <td>732 SANTA ANA AVE</td>\n",
       "      <td>SACRAMENTO</td>\n",
       "      <td>CA</td>\n",
       "      <td>95838</td>\n",
       "      <td>22850</td>\n",
       "      <td>Jennifer Massey</td>\n",
       "      <td>210 GASTON DR</td>\n",
       "      <td>MADISON</td>\n",
       "      <td>AL</td>\n",
       "      <td>35758</td>\n",
       "      <td>1001</td>\n",
       "    </tr>\n",
       "    <tr>\n",
       "      <th>0</th>\n",
       "      <td>1034</td>\n",
       "      <td>Craig Danley</td>\n",
       "      <td>1560 MASSACHUSETTS AVE 149</td>\n",
       "      <td>RIVERSIDE</td>\n",
       "      <td>CA</td>\n",
       "      <td>92507</td>\n",
       "      <td>37882</td>\n",
       "      <td>Joseph Allen</td>\n",
       "      <td>4807 RAMER SELMER RD</td>\n",
       "      <td>STATEWIDE</td>\n",
       "      <td>TN</td>\n",
       "      <td>NaN</td>\n",
       "      <td>1001</td>\n",
       "    </tr>\n",
       "    <tr>\n",
       "      <th>0</th>\n",
       "      <td>21304</td>\n",
       "      <td>Angelica Mcdonell</td>\n",
       "      <td>536 1ST ST</td>\n",
       "      <td>Manhattan Beach</td>\n",
       "      <td>CA</td>\n",
       "      <td>90266</td>\n",
       "      <td>13550</td>\n",
       "      <td>Julio Durham</td>\n",
       "      <td>12609 257TH AVENUE</td>\n",
       "      <td>STATEWIDE</td>\n",
       "      <td>WI</td>\n",
       "      <td>NaN</td>\n",
       "      <td>1001</td>\n",
       "    </tr>\n",
       "  </tbody>\n",
       "</table>\n",
       "</div>"
      ],
      "text/plain": [
       "   row_id               NAME                      STREET             CITY  \\\n",
       "0   32689        Amy Gilbert             1077 S WORTH ST       Birmingham   \n",
       "0   46731       Roger Miller                 443 10TH ST           SEMCOG   \n",
       "0   31040       James Utecht     5161 CHERRY BLOSSOM WAY         COLUMBUS   \n",
       "0   28106      Tiffany Story             15 GILBERT ROAD         BREWSTER   \n",
       "0   34096     Sadie Matherly          1223 POPLAR RUN DR       MONTGOMERY   \n",
       "0   47204     Alexander Kopf       7473 COLLINS RANCH CT        San Diego   \n",
       "0   36720       Carl Flowers             7326 N LILAC LN    MICHIGAN CITY   \n",
       "0    5098   Dorothy Williams      7420 QUAIL HEIGHTS AVE            CLARK   \n",
       "0   42296         Enoch Peck           732 SANTA ANA AVE       SACRAMENTO   \n",
       "0    1034       Craig Danley  1560 MASSACHUSETTS AVE 149        RIVERSIDE   \n",
       "0   21304  Angelica Mcdonell                  536 1ST ST  Manhattan Beach   \n",
       "\n",
       "  STATE ZIPCODE  row_id                 NAME                      STREET  \\\n",
       "0    MI   48009   19576           James Wong  4623 S VALLEY HAVEN CT PUD   \n",
       "0    MI   48060   46967          Thomas Wood              28 HILLSIDE RD   \n",
       "0    OH   43230   41743  Alexander Rhinehart                  8123 MARSH   \n",
       "0    MA    2631   38917           Gina Burch              58301 PEACH RD   \n",
       "0    MD     NaN   42075        Jane Mcburney              505 NW 13TH ST   \n",
       "0    CA   92130   47551        John Williams                 8325 KIM RD   \n",
       "0    IN   46360   22043        Brendan Lueck         6301 MISTY WOOD WAY   \n",
       "0    NV     NaN    6378             Tom Font                912 EMMET ST   \n",
       "0    CA   95838   22850      Jennifer Massey               210 GASTON DR   \n",
       "0    CA   92507   37882         Joseph Allen        4807 RAMER SELMER RD   \n",
       "0    CA   90266   13550         Julio Durham          12609 257TH AVENUE   \n",
       "\n",
       "               CITY STATE ZIPCODE  block_id  \n",
       "0  WEST VALLEY CITY    UT   84120      1001  \n",
       "0  NEWTON HIGHLANDS    MA    2461      1001  \n",
       "0        Chanhassen    MN   55317      1001  \n",
       "0                IN    IN     NaN      1001  \n",
       "0            GRIMES    IA   50111      1001  \n",
       "0      JACKSONVILLE    FL   32217      1001  \n",
       "0        SACRAMENTO    CA   95621      1001  \n",
       "0          ST LOUIS    MO     NaN      1001  \n",
       "0           MADISON    AL   35758      1001  \n",
       "0         STATEWIDE    TN     NaN      1001  \n",
       "0         STATEWIDE    WI     NaN      1001  "
      ]
     },
     "execution_count": 52,
     "metadata": {},
     "output_type": "execute_result"
    }
   ],
   "source": [
    "res"
   ]
  },
  {
   "cell_type": "markdown",
   "metadata": {},
   "source": [
    "# Use total Sample"
   ]
  },
  {
   "cell_type": "code",
   "execution_count": 109,
   "metadata": {
    "collapsed": true
   },
   "outputs": [],
   "source": [
    "db= pd.read_csv(\"data.csv\",sep=\",\",header=\"infer\")\n",
    "row_id_pairs=pd.read_csv(\"row_id_pairs_test.txt\",sep=\"|\",header=-1)\n",
    "row_id_pairs_list=[row_id_pairs.iloc[i].values.tolist() for i in range(len(row_id_pairs))]"
   ]
  },
  {
   "cell_type": "code",
   "execution_count": 112,
   "metadata": {
    "collapsed": false
   },
   "outputs": [
    {
     "name": "stdout",
     "output_type": "stream",
     "text": [
      "7.396821022033691\n"
     ]
    }
   ],
   "source": [
    "import time \n",
    "tic = time.time()\n",
    "res= create_entity_pairs(db,row_id_pairs_list)\n",
    "print(time.time()-tic)\n"
   ]
  },
  {
   "cell_type": "code",
   "execution_count": 185,
   "metadata": {
    "collapsed": false
   },
   "outputs": [],
   "source": [
    "def create_entity_pairs_updated(db, row_id_pairs):\n",
    "    data = pd.DataFrame()\n",
    "    for pair in row_id_pairs:\n",
    "        row_left = db.ix[[pair[0]-1]].reset_index(drop=True)\n",
    "        if isinstance(row_id_pairs, list):\n",
    "            row_left = row_left.drop('block_id',axis=1)\n",
    "        row_right = db.ix[[pair[1]-1]].reset_index(drop=True)\n",
    "        row = pd.concat([row_left, row_right],axis=1)\n",
    "        data = data.append(row)\n",
    "    return data"
   ]
  },
  {
   "cell_type": "code",
   "execution_count": 122,
   "metadata": {
    "collapsed": false
   },
   "outputs": [
    {
     "data": {
      "text/plain": [
       "0               32690\n",
       "1     Brandon Goldman\n",
       "2    130 CAROUSEL AVE\n",
       "3        PORT LABELLE\n",
       "4                  FL\n",
       "5               33935\n",
       "6                1001\n",
       "Name: 32689, dtype: object"
      ]
     },
     "execution_count": 122,
     "metadata": {},
     "output_type": "execute_result"
    }
   ],
   "source": [
    "row_left"
   ]
  },
  {
   "cell_type": "code",
   "execution_count": 145,
   "metadata": {
    "collapsed": false
   },
   "outputs": [
    {
     "data": {
      "text/plain": [
       "row_id                      32691\n",
       "NAME              Lorraine Battle\n",
       "STREET      2903 MOUNT VERNON AVE\n",
       "CITY                   ALEXANDRIA\n",
       "STATE                          VA\n",
       "ZIPCODE                     22305\n",
       "row_id                      33936\n",
       "NAME                 Adell Barton\n",
       "STREET            59 TROYS MARINA\n",
       "CITY                   Springport\n",
       "STATE                          NY\n",
       "ZIPCODE                     13034\n",
       "block_id                     1001\n",
       "dtype: object"
      ]
     },
     "execution_count": 145,
     "metadata": {},
     "output_type": "execute_result"
    }
   ],
   "source": [
    "row"
   ]
  },
  {
   "cell_type": "code",
   "execution_count": 163,
   "metadata": {
    "collapsed": false
   },
   "outputs": [
    {
     "data": {
      "text/plain": [
       "Index(['row_id', 'NAME', 'STREET', 'CITY', 'STATE', 'ZIPCODE', 'row_id',\n",
       "       'NAME', 'STREET', 'CITY', 'STATE', 'ZIPCODE', 'block_id'],\n",
       "      dtype='object')"
      ]
     },
     "execution_count": 163,
     "metadata": {},
     "output_type": "execute_result"
    }
   ],
   "source": [
    "row.index"
   ]
  },
  {
   "cell_type": "code",
   "execution_count": 183,
   "metadata": {
    "collapsed": false
   },
   "outputs": [],
   "source": [
    "row_left = db.ix[[32690]].reset_index(drop=True)\n",
    "row_left = row_left.drop('block_id',axis=1)\n"
   ]
  },
  {
   "cell_type": "code",
   "execution_count": 186,
   "metadata": {
    "collapsed": false,
    "scrolled": false
   },
   "outputs": [
    {
     "name": "stdout",
     "output_type": "stream",
     "text": [
      "7.111389636993408\n"
     ]
    }
   ],
   "source": [
    "import time \n",
    "tic = time.time()\n",
    "res= create_entity_pairs_updated(db,row_id_pairs_list)\n",
    "print(time.time()-tic)"
   ]
  }
 ],
 "metadata": {
  "kernelspec": {
   "display_name": "Python 3",
   "language": "python",
   "name": "python3"
  },
  "language_info": {
   "codemirror_mode": {
    "name": "ipython",
    "version": 3
   },
   "file_extension": ".py",
   "mimetype": "text/x-python",
   "name": "python",
   "nbconvert_exporter": "python",
   "pygments_lexer": "ipython3",
   "version": "3.5.2"
  }
 },
 "nbformat": 4,
 "nbformat_minor": 2
}
