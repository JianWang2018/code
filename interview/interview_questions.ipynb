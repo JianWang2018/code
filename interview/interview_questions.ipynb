{
 "cells": [
  {
   "cell_type": "markdown",
   "metadata": {},
   "source": [
    "# Interview questions\n",
    "\n",
    "store the interview questions including financial math, programming and machine learning"
   ]
  },
  {
   "cell_type": "markdown",
   "metadata": {},
   "source": [
    "1) Quick Sort\n",
    "\n",
    "/* low  --> Starting index,  high  --> Ending index */\n",
    "quickSort(arr[], low, high)\n",
    "{\n",
    "    if (low < high)\n",
    "    {\n",
    "        /* pi is partitioning index, arr[p] is now\n",
    "           at right place */\n",
    "        pi = partition(arr, low, high);\n",
    "\n",
    "        quickSort(arr, low, pi - 1);  // Before pi\n",
    "        quickSort(arr, pi + 1, high); // After pi\n",
    "    }\n",
    "}\n",
    "Pseudo code for partition()\n",
    "\n",
    "/* This function takes last element as pivot, places\n",
    "   the pivot element at its correct position in sorted\n",
    "    array, and places all smaller (smaller than pivot)\n",
    "   to left of pivot and all greater elements to right\n",
    "   of pivot */\n",
    "partition (arr[], low, high)\n",
    "{\n",
    "    // pivot (Element to be placed at right position)\n",
    "    pivot = arr[high];  \n",
    " \n",
    "    i = (low - 1)  // Index of smaller element\n",
    "\n",
    "    for (j = low; j <= high- 1; j++)\n",
    "    {\n",
    "        // If current element is smaller than or\n",
    "        // equal to pivot\n",
    "        if (arr[j] <= pivot)\n",
    "        {\n",
    "            i++;    // increment index of smaller element\n",
    "            swap arr[i] and arr[j]\n",
    "        }\n",
    "    }\n",
    "    swap arr[i + 1] and arr[high])\n",
    "    return (i + 1)\n",
    "}\n",
    "\n",
    "average complextiy: https://www.zhihu.com/question/22393997\n"
   ]
  },
  {
   "cell_type": "markdown",
   "metadata": {},
   "source": [
    "\n",
    "2) 3 sum question.\n",
    "```java\n",
    "public List<List<Integer>> threeSum(int[] num) {\n",
    "    Arrays.sort(num);\n",
    "    List<List<Integer>> res = new LinkedList<>(); \n",
    "    for (int i = 0; i < num.length-2; i++) {\n",
    "        if (i == 0 || (i > 0 && num[i] != num[i-1])) {\n",
    "            int lo = i+1, hi = num.length-1, sum = 0 - num[i];\n",
    "            while (lo < hi) {\n",
    "                if (num[lo] + num[hi] == sum) {\n",
    "                    res.add(Arrays.asList(num[i], num[lo], num[hi]));\n",
    "                    while (lo < hi && num[lo] == num[lo+1]) lo++;\n",
    "                    while (lo < hi && num[hi] == num[hi-1]) hi--;\n",
    "                    lo++; hi--;\n",
    "                } else if (num[lo] + num[hi] < sum) lo++;\n",
    "                else hi--;\n",
    "           }\n",
    "        }\n",
    "    }\n",
    "    return res;\n",
    "}\n",
    "```"
   ]
  },
  {
   "cell_type": "markdown",
   "metadata": {},
   "source": [
    "\n",
    "3) Roll two dice for infinite times, what is the prob that you get a sum of 4 before a sum of 2?  \n",
    "\n",
    "75% but here's why\n",
    "\n",
    "Lets, do 1-sum(chance we get a 2 before a 4 sum).\n",
    "\n",
    "1/36 chance to get sum of 2\n",
    "3/36 chance to get sum of 4\n",
    "32/36 chance we don't get a sum of 4, or 2\n",
    "\n",
    "First role we get a sum of 2: 1/36 probabilityHow do you find an outlier in a dataset?\n",
    "2nd role we get a sum of 2 : (32/36)*(1/3)\n",
    "...\n",
    "nth role we get a sum of 2: (32/36)^(n-1)*(1/3)\n",
    "\n",
    "So, final answer is 1-[1/36 * sum 0 to infinity (32/36)^n] = 1-.25 = .75"
   ]
  },
  {
   "cell_type": "markdown",
   "metadata": {},
   "source": [
    "4) Comparing e to the power of pi and pi to the power of e which one is bigger.  "
   ]
  },
  {
   "cell_type": "markdown",
   "metadata": {},
   "source": [
    "5) write a program output all prime numbers below N  \n"
   ]
  },
  {
   "cell_type": "markdown",
   "metadata": {},
   "source": [
    "6) How do you find an outlier in a dataset?\n",
    "\n",
    "IQR = third quartile - first quartile.\n",
    "outlier &gt; third quartile + 1.5 * IQR\n",
    "and\n",
    "outlier &lt; first quartile - 1.5 * IQR"
   ]
  },
  {
   "cell_type": "markdown",
   "metadata": {},
   "source": [
    "7) Interview 1, Q1: Find the eigenvalues and eigenvectors in a 3x3 matrix. "
   ]
  },
  {
   "cell_type": "markdown",
   "metadata": {},
   "source": [
    "\n",
    "8) Explain how you would find the mean value in an array. What is the time complexity of a sort function, and explain why.  \n",
    "here is a single pass algorithm for finding the mean. Let m_n be the mean of the first n values, the mean considering the (n+1)th value is m_(n+1)=(n*m_n +x_(n+1))/(n+1). This follows from the fact that n*m_n is the sum of all values up to x_n, so we just need to add the next value and divide by n+1."
   ]
  },
  {
   "cell_type": "markdown",
   "metadata": {},
   "source": [
    "\n",
    "9) If a person wanted to write a ransom note by cutting letters out of a magazine, how would you decide whether or not the magazine had the letters necessary? Explain in terms of computer algorithms.\n",
    "\n",
    " Read in ransom note. Store each word in hash map with associated counter value, and increase counter value for each instance of the word. Read magazine in word by word. If word exists in hash map, decrease counter value. If, at the end of parsing the magazine, any counters &gt; 0 in the hash map, then there are not enough words."
   ]
  },
  {
   "cell_type": "markdown",
   "metadata": {},
   "source": [
    "\n",
    "10) What is the probability of NO collisions given a particular size hash map\n",
    " This is the same as the 'birthday' problem. Imagine a hashmap with M bins. If 1 bin is already full, the odds of the next entry NOT causing collision are (1-1/M). Then if 2 bins are already full, the odds of the next entry NOT causing collisions are (1-2/M). Given n entries, we get P=(1-1/M)*(1-2/M)*(1-3/M)...(1-(n-1)/M). (Conversely, if we wanted to know the probability of collision, we could do 1-P).\n",
    " "
   ]
  },
  {
   "cell_type": "markdown",
   "metadata": {},
   "source": [
    "11)  Explain the central limit theorem"
   ]
  },
  {
   "cell_type": "markdown",
   "metadata": {},
   "source": [
    "\n",
    "12) What makes Gaussian distributions 'special?' How are they different than other distributions, such as a Poisson distribution?  \n"
   ]
  },
  {
   "cell_type": "markdown",
   "metadata": {},
   "source": [
    " 13) If the odds of a company defaulting are 10% for the first 6 mo, and 10% for the second 6 mo, what are the odds of them defaulting over 1 year? Birthday problem: \n",
    "\n",
    "1-(1-0.1)*(1-0.1)\n"
   ]
  },
  {
   "cell_type": "markdown",
   "metadata": {},
   "source": [
    " 14) What are the odds of two people having the same birthday in a room?  "
   ]
  },
  {
   "cell_type": "markdown",
   "metadata": {},
   "source": [
    "15) Given an array with integers, all integers appear once except one appears twice. How do you find that integer in the fastest way? Complexity?  \n",
    "use hash table "
   ]
  },
  {
   "cell_type": "markdown",
   "metadata": {},
   "source": [
    "\n",
    "16) What is a virtual constructor in C++?  \n",
    "To create a copy of an object or a new object without knowing its concrete type.\n",
    "\n",
    "The effect of a virtual constructor by a create() member function for creation and a clone() member function for copy construction as shown below\n",
    "class Employee \n",
    "{\n",
    "  public:\n",
    "    virtual ~Employee () {}                 // Native support for polymorphic destruction.\n",
    "    virtual Employee * create () const = 0; // Virtual constructor (creation) \n",
    "    virtual Employee * clone () const = 0;  // Virtual constructor (copying) \n",
    "};\n",
    "class Manager : public Employee     // \"is-a\" relationship\n",
    "{\n",
    "  public:\n",
    "    Manager ();                     // Default constructor\n",
    "    Manager (Manager const &);      // Copy constructor\n",
    "    virtual ~Manager () {}                  // Destructor\n",
    "    Manager * create () const       // Virtual constructor (creation) \n",
    "    {\n",
    "      return new Manager();\n",
    "    }\n",
    "    Manager * clone () const        // Virtual constructor (copying) \n",
    "    {\n",
    "      return new Manager (*this);\n",
    "    }\n",
    "};\n",
    "class Programmer : public Employee { /* Very similar to the Manager class */ };\n",
    "Employee * duplicate (Employee const & e)\n",
    "{\n",
    "   return e.clone();  // Using virtual constructor idiom.\n",
    "}\n"
   ]
  },
  {
   "cell_type": "markdown",
   "metadata": {},
   "source": [
    "17) You call the home of a family w/ two children and a kid  \"billy\" answers the phone. What is the probability that both children are boys\n",
    "\n",
    "Basic Bayesian question Pr(#boys = 2) = (1 / 3)\n"
   ]
  },
  {
   "cell_type": "markdown",
   "metadata": {},
   "source": [
    "\n",
    "18) If I give you an array of integers, L, and another integer, s, can you write a program to find out whether there exists a *pair* of integers in L which sum up to s. What's the time complexity of this program? Can you find a faster version?\n",
    "\n",
    "Example: L = [8,4,7,1,4], s = 11. In this case, the program should return true since 7 + 4 = 11.   …  href=\"/Interview/If-I-give-you-an-array-of-integers-L-and-another-integer-s-can-you-write-a-program-to-find-out-whether-there-exists-a-QTN_2265277.htm\" class=\"questionResponse\">1 Answer\n"
   ]
  },
  {
   "cell_type": "markdown",
   "metadata": {},
   "source": [
    "\n",
    "19) If you toss an unbiased coin, what is the expected number of tosses you will make before you toss three tails?  \n",
    "We note X the number of tosses to get to 3 tails(successes), so X follows a negative binomial distribution. and the expectation of a negative binomial random variable E[X] := r/p, where r is the number of tails(successes), and p is the probability to get a tail(success) which here is 1/2. So the expected number of tosses E[X] = 3/(1/2) = 6"
   ]
  },
  {
   "cell_type": "markdown",
   "metadata": {},
   "source": [
    "20) n people standing in a row with all of them having different heights. Expected position of the tallest guy.  \n",
    "\n",
    "The tallest person can either be in the first position, the second position and so on till the nth position.\n",
    "\n",
    "The sample space is Ω={1,2,3,4,…n}\n",
    "\n",
    "Each of these outcomes have equal probability, that is 1/n.\n",
    "\n",
    "Therefore, the expected value is\n",
    "\n",
    "1/n+2/n+3/n+⋯+n/n\n",
    "\n",
    "This sum evaluates to (n+1)/2."
   ]
  },
  {
   "cell_type": "markdown",
   "metadata": {},
   "source": [
    "*21) You have 10 mice and 1000 bottles of wine. You also have 24 hours before a party, and one of the bottles has been tainted with a slow acting poison, which takes 24 hours to kill a mouse. In the 24 hours you have remaining, how many bottles can you guarantee safe for human consumption (assume humans and mice react identically)? Assume the lethal dosage is insignificant relative to the size of the bottle.  \n",
    "\n",
    "The answer is 1023.\n",
    "You need to think in bit-wise way. 1023 can be represented in binary as (1111111111). Your goal should be: representing each wine label (i-th number) to each binary representation. 1000th wine will be represented with 1111101000 meaning (1,2,3,4,5,7th) mices will be used to check the toxicity of this wine.\n",
    "In binary way, you can assign label to up to 1023 wines.\n",
    "So by analysing the rats that die after 24 hrs, you can actually identify which wine is toxic or not. hope this helps.\n"
   ]
  },
  {
   "cell_type": "markdown",
   "metadata": {},
   "source": [
    "*22) 100 sided die question was difficult"
   ]
  },
  {
   "cell_type": "markdown",
   "metadata": {},
   "source": [
    "\n",
    "23)  What is the expected number of tosses required to achieve 2 heads in an unbiased coin?  \n",
    "Expected number of steps required to obtain N consecutive heads by tossing a fair coin is given by\n",
    "                           En = 2^(n+1) -2\n",
    "For n = 2 ; E2 = 6\n",
    "For further details see - http://www.qbyte.org/puzzles/p082s.html"
   ]
  },
  {
   "cell_type": "markdown",
   "metadata": {},
   "source": [
    "24) How do you create an event with a probability of 1/3 using an unbiased coin?  "
   ]
  },
  {
   "cell_type": "markdown",
   "metadata": {},
   "source": [
    "25) Consider a random walk on a discrete grid of 11 points (0 through 10). Supposed you have equal probabilty of stepping up or down. If you reach either 10 or 0 you must stop. If you start at point 6, what is the probability that you arrive at 10 before you arrive at 0?  \n",
    "\n",
    "The quickest way tom solve this problem is to realize that this random walk is a martingale. Therefor, its conditional expectation value is equal to its initial value. Over a long enough time period you will arrive at either 10 or 0 (ergodic hypothesis). Let p be the probability of arriving at 10 before 0. Then 6 = 10*p + 0*(1-p). Or p = 6/10.\n"
   ]
  },
  {
   "cell_type": "markdown",
   "metadata": {},
   "source": [
    "\n",
    "26) Assume that you have an NxN Matrix, filled with decreasing  numbers if you go from left to right and from top to bottom. Can you design an efficient search algorithm on this matrix. Hint: the most efficient one should have a Log(N) complexity..."
   ]
  },
  {
   "cell_type": "markdown",
   "metadata": {},
   "source": [
    "*27) a, b, c are integers. Such that a^2 + 2bc = 1; b^2 + 2ac=2012, find all the possibles values of c^2 + 2ab.  \n",
    "use prime \n",
    "link:http://www.esuppa.it/ProblemiRisolti/J217.pdf"
   ]
  },
  {
   "cell_type": "markdown",
   "metadata": {},
   "source": [
    "\n",
    "*28) Given a round table, randomly place three legs under the table, what is probability that the table will fall? \n",
    "\n",
    "\n",
    "I had trouble understanding this.. but let's give it a shot.\n",
    "we can generalise this by looking at N points.\n",
    "\n",
    "First, we can select one point as a reference point where it lies on the 0 degree such that the points above this horizontal line will lie in upper hemisphere, while the others lie in the lower hemisphere. For these 'reference point,' we can choose from total N points.\n",
    "\n",
    "Given that one point has been chosen, then the probability that the next point lies in upper/lower hemisphere = (0.5)\n",
    "\n",
    "So, the answer is: N / 2^{N - 1}.\n",
    "If you plug in N = 1, N = 2, it gives 1. (which is intuitively correct)\n",
    "if you also plug in N = 3 for this case, we get 3 / 4"
   ]
  },
  {
   "cell_type": "markdown",
   "metadata": {},
   "source": [
    "\n",
    "29) What does a distribution with a maximal variance look like  which is only defined between 0 and 1? Give the proof.\n",
    "\n",
    "You'd want the values to be at either 0 or 1, since anything in between just brings them closer to the mean (not fully rigorous, but should be obvious enough). let p be the density at 0, so (1-p) is the density at 1. Then mean = (1-p). Variance is: p*(1-p)^2+(1-p)*p^2 = p-2p^2+p^3+p^2-p^3 = p-p^2\n",
    "\n",
    "We want to maximize variance, to take the first derivative and set it to 0:\n",
    "1-2p = 0\n",
    "p=1/2\n",
    "\n",
    "Hence, half the density is at 0, half at 1.\n",
    "\n",
    "There may be a more elegant argument. \n"
   ]
  },
  {
   "cell_type": "markdown",
   "metadata": {},
   "source": [
    "\n",
    "30) How do you write a function that takes the square root of a number without using any built-in exponential function?  \n",
    "\n",
    "newton "
   ]
  },
  {
   "cell_type": "markdown",
   "metadata": {},
   "source": [
    "31) what is PCA? what is first component for the data set <0,1> <1,2> <-1,0>?  "
   ]
  },
  {
   "cell_type": "markdown",
   "metadata": {},
   "source": [
    "\n",
    "32) Write a function to find the first n prime numbers  \n",
    "Scanner scan = new Scanner(System.in);\n",
    "    int N =Integer.parseInt( scan.nextLine());\n",
    "    int count=0;\n",
    "    int num=2;\n",
    "    while(count!=N)// while count!= number of prime numbers entered keep searching.. \n",
    "    {\n",
    "        boolean prime=true;// to determine whether the number is prime or not\n",
    "        for (int i=2;i<=Math.sqrt(num);i++)//efficiency matters\n",
    "        {\n",
    "            if (num%i==0)\n",
    "            {\n",
    "                prime=false;// if number divides any other number its not a prime so set prime to false and break the loop.\n",
    "                break;\n",
    "            }\n",
    "\n",
    "    }\n",
    "        if (prime)\n",
    "        {\n",
    "            count++;\n",
    "            System.out.println(num);\n",
    "        }\n",
    "        num++; see if next number is prime or not.\n",
    "\n",
    "    }\n"
   ]
  },
  {
   "cell_type": "markdown",
   "metadata": {},
   "source": [
    "33) Prove e^π > π^e   "
   ]
  },
  {
   "cell_type": "markdown",
   "metadata": {},
   "source": [
    "34) Why are options' Greeks important?  "
   ]
  },
  {
   "cell_type": "markdown",
   "metadata": {},
   "source": [
    "35) Expected value of fair dice, winning strategy for rolling second die as an option, and then expected value of rolling infinitely if 4/5/6, but stopping for 1/2/3  "
   ]
  },
  {
   "cell_type": "markdown",
   "metadata": {},
   "source": [
    "36) Why do we square errors instead of just getting absolute values in linear regression?  \n",
    "https://www.benkuhn.net/squared\n",
    "mean and median "
   ]
  },
  {
   "cell_type": "markdown",
   "metadata": {},
   "source": [
    "37) Complexity of quicksort + deriving quickselect from quicksort.  \n",
    "best : O(nlogn ) worst O(n^2)\n",
    "\n",
    "/* low  --> Starting index,  high  --> Ending index */\n",
    "quickSort(arr[], low, high)\n",
    "{\n",
    "    if (low < high)\n",
    "    {\n",
    "        /* pi is partitioning index, arr[p] is now\n",
    "           at right place */\n",
    "        pi = partition(arr, low, high);\n",
    "\n",
    "        quickSort(arr, low, pi - 1);  // Before pi\n",
    "        quickSort(arr, pi + 1, high); // After pi\n",
    "    }\n",
    "}\n",
    "/* This function takes last element as pivot, places\n",
    "   the pivot element at its correct position in sorted\n",
    "    array, and places all smaller (smaller than pivot)\n",
    "   to left of pivot and all greater elements to right\n",
    "   of pivot */\n",
    "partition (arr[], low, high)\n",
    "{\n",
    "    // pivot (Element to be placed at right position)\n",
    "    pivot = arr[high];  \n",
    " \n",
    "    i = (low - 1)  // Index of smaller element\n",
    "\n",
    "    for (j = low; j <= high- 1; j++)\n",
    "    {\n",
    "        // If current element is smaller than or\n",
    "        // equal to pivot\n",
    "        if (arr[j] <= pivot)\n",
    "        {\n",
    "            i++;    // increment index of smaller element\n",
    "            swap arr[i] and arr[j]\n",
    "        }\n",
    "    }\n",
    "    swap arr[i + 1] and arr[high])\n",
    "    return (i + 1)\n",
    "}\n"
   ]
  },
  {
   "cell_type": "markdown",
   "metadata": {},
   "source": [
    "\n",
    "39) find the subarrays and their permutations of an array \n",
    "\n",
    " public List<List<Integer>> permute(int[] nums) {\n",
    "   List<List<Integer>> list = new ArrayList<>();\n",
    "   // Arrays.sort(nums); // not necessary\n",
    "   backtrack(list, new ArrayList<>(), nums);\n",
    "   return list;\n",
    "}\n",
    "\n",
    "private void backtrack(List<List<Integer>> list, List<Integer> tempList, int [] nums){\n",
    "   if(tempList.size() == nums.length){\n",
    "      list.add(new ArrayList<>(tempList));\n",
    "   } else{\n",
    "      for(int i = 0; i < nums.length; i++){ \n",
    "         if(tempList.contains(nums[i])) continue; // element already exists, skip\n",
    "         tempList.add(nums[i]);\n",
    "         backtrack(list, tempList, nums);\n",
    "         tempList.remove(tempList.size() - 1);\n",
    "      }\n",
    "   }\n",
    "} "
   ]
  },
  {
   "cell_type": "markdown",
   "metadata": {},
   "source": [
    "\n",
    "40) How would you code a calculation for factorial?  \n",
    "public static void main(String[] args) {\n",
    "    int num;\n",
    "    int fact=1;\n",
    "    Scanner input = new Scanner(System.in);\n",
    "    System.out.println(\"Enter a number: \");\n",
    "    num = input.nextInt();\n",
    "    for (int i=2;i<=num; i++){\n",
    "        fact=fact*i;\n",
    "    }\n",
    "\n",
    "    System.out.println(\"Factorial: \"+fact);\n",
    "}"
   ]
  },
  {
   "cell_type": "markdown",
   "metadata": {},
   "source": [
    "\n",
    "*41)Classical Brainteaser,2 eggs though from a 100 floor building,worst case scenario;  3 eggs? \n",
    "\n",
    "https://sankalpiitr.wordpress.com/2012/03/02/the-2-eggs-problem-extended-to-3-eggs/\n"
   ]
  },
  {
   "cell_type": "markdown",
   "metadata": {},
   "source": [
    "42)1 die, throw once,pay you the money as the die shows, expected value; expected value if give the 2rd opportunity.  "
   ]
  },
  {
   "cell_type": "markdown",
   "metadata": {},
   "source": [
    "\n",
    "*43) You are random walking a bridge of length 100. Each time you toss a fair coin, you go one step( one meter) ahead if it's head and one step backward if it's a tail. What's the prob to get to the 100 before get to 0?  \n",
    "\n",
    "1/200?\n",
    "\n"
   ]
  },
  {
   "cell_type": "markdown",
   "metadata": {},
   "source": [
    "\n",
    "44)write a program that returns the second largest element in an array (as efficient as possible)  \n",
    "key: first second , insert\n",
    "1) Initialize two variables first and second to INT_MIN as,\n",
    "   first = second = INT_MIN\n",
    "2) Start traversing the array,\n",
    "   a) If the current element in array say arr[i] is greater\n",
    "      than first. Then update first and second as,\n",
    "      second = first\n",
    "      first = arr[i]\n",
    "   b) If the current element is in between first and second,\n",
    "      then update second to store the value of current variable as\n",
    "      second = arr[i]\n",
    "3) Return the value stored in second.\n",
    "class GFG {\n",
    "     \n",
    "    /* Function to print the second largest\n",
    "    elements */\n",
    "    public static void print2largest(int arr[], \n",
    "                                     int arr_size)\n",
    "    {\n",
    "        int i, first, second;\n",
    "      \n",
    "        /* There should be atleast two elements */\n",
    "        if (arr_size < 2)\n",
    "        {\n",
    "            System.out.print(\" Invalid Input \");\n",
    "            return;\n",
    "        }\n",
    "      \n",
    "        first = second = Integer.MIN_VALUE;\n",
    "        for (i = 0; i < arr_size ; i++)\n",
    "        {\n",
    "            /* If current element is smaller than \n",
    "            first then update both first and second */\n",
    "            if (arr[i] > first)\n",
    "            {\n",
    "                second = first;\n",
    "                first = arr[i];\n",
    "            }\n",
    "      \n",
    "            /* If arr[i] is in between first and \n",
    "               second then update second  */\n",
    "            else if (arr[i] > second && arr[i] != first)\n",
    "                second = arr[i];\n",
    "        }\n",
    "         \n",
    "        if (second == Integer.MIN_VALUE)\n",
    "             System.out.print(\"There is no second largest\"+\n",
    "                                 \" element\\n\");\n",
    "        else\n",
    "             System.out.print(\"The second largest element\"+\n",
    "                                      \" is \"+ second);\n",
    "    }\n"
   ]
  },
  {
   "cell_type": "markdown",
   "metadata": {},
   "source": [
    "45) the difference between t and normal distribution"
   ]
  },
  {
   "cell_type": "markdown",
   "metadata": {},
   "source": [
    "46 ) the usage of F distribution\n",
    "\n",
    "The main use of F-distribution is to test whether two independent samples have been drawn for the normal populations with the same variance, or if two independent estimates of the population variance are homogeneous or not, since it is often desirable to compare two variances rather than two averages. For instance, college administrators would prefer two college professors grading exams to have the same variation in their grading. For this, the F-test can be used, and after examining the p-value, inference can be drawn on the variation.\n",
    "47) the usage of kai-square distribution"
   ]
  },
  {
   "cell_type": "markdown",
   "metadata": {},
   "source": [
    "48) put call parity"
   ]
  },
  {
   "cell_type": "markdown",
   "metadata": {},
   "source": [
    "49) how to detect a loop in a list without recording the nodes you have been visited"
   ]
  },
  {
   "cell_type": "markdown",
   "metadata": {},
   "source": [
    "*50) They asked to implement a program that finds a sub array with the highest sum among an array of integers.  \n",
    "all the positive number ?"
   ]
  },
  {
   "cell_type": "markdown",
   "metadata": {},
   "source": [
    "51 ) A rope with total length 1 breaks into 3 parts. The probability of forming a triangle.  "
   ]
  },
  {
   "cell_type": "markdown",
   "metadata": {},
   "source": [
    "52) Calculate the expected times of rolling two dices to obtain two successive 3.\n",
    " 42= 36 + 6"
   ]
  },
  {
   "cell_type": "markdown",
   "metadata": {},
   "source": [
    "53)Suppose you are blindfolded and there are 50 individual ropes lying on the table in front of you. You must pick up two rope ends at a time (not necessarily from the same rope), and tie them together while blindfolded; eventually you will end up with only rope loops on the table. What is the expected number of loops?  \n",
    "\n",
    "It's a recurrence relation: E(n)=(2n-2)/(2n-1)*E(n-1)+1/(2n-1)*(1+E(n-1)). This is because if you have n separate ropes on the table and you pick up one rope end, then there's a 1/(2n-1) chance that you the next end you pick up is the other end of that same rope. If you do, then you form one loop and the expected value is 1+E(n-1) because there are n-1 separate ropes left on the table. On the other hand, there's a (2n-2)/(2n-1) chance that the next rope end you pick up is the end of a different rope, in which case tying them together would result in an expected value of E(n-1) because there are now n-1 separate ropes left on the table.\n",
    "\n",
    "Simplifying the recurrence relation yields: E(n)=E(n-1)+1/(2n-1)."
   ]
  },
  {
   "cell_type": "markdown",
   "metadata": {},
   "source": [
    "54 ) I was asked time complexity of algorithms designed to search and matrix multiplication  "
   ]
  },
  {
   "cell_type": "markdown",
   "metadata": {},
   "source": [
    "*55) If one commuter train comes every 15 minutes and another comes every 40 minutes, what is the average amount of time one would have to wait before getting on a train? \n",
    "\n",
    "6.56\n",
    "\n",
    "https://math.stackexchange.com/questions/1557579/train-wait-problem-probability"
   ]
  },
  {
   "cell_type": "markdown",
   "metadata": {},
   "source": [
    "56) abstract class \n",
    "An abstract class is a class that is designed to be specifically used as a base class. An abstract class contains at least one pure virtual function. You declare a pure virtual function by using a pure specifier (= 0) in the declaration of a virtual member function in the class declaration.\n"
   ]
  },
  {
   "cell_type": "markdown",
   "metadata": {},
   "source": [
    "*57) You are doing an experiment to observe a binary signal (think of a light being on or off). You can't view the signal directly, but through two instruments. The instruments have error rates a and b, respectively. The error rates are independent. What is the probability the are both correct? give matching signals? give matching, but incorrect signals?  "
   ]
  },
  {
   "cell_type": "markdown",
   "metadata": {},
   "source": [
    "*58)kalman filter in stochastic calculus "
   ]
  },
  {
   "cell_type": "markdown",
   "metadata": {},
   "source": [
    "59) Throw a fair coin as many times as you need, compare the probability of getting the sequence HHT with the probability of getting the sequence HTH. Which is higher?  \n",
    "\n",
    "HHT. Why? It depend how far back you need to go when the last toss turned out not being what you want. (I'm trying not to use Markov chain here.)\n",
    "HHT: If you got HHH, you are still satisfying 2/3 of the condition.\n",
    "HTH: If you got HTT, you need to start from the beginning.\n",
    "More rigorous answer can be found be using Markov chain."
   ]
  },
  {
   "cell_type": "markdown",
   "metadata": {},
   "source": [
    "60) X is N(0, 1). What is E(X), E(X^2), E(X^3), questions on correlation/covariance  "
   ]
  },
  {
   "cell_type": "markdown",
   "metadata": {},
   "source": [
    "61) There is a set of n - 1 numbers from the range 1 to n, determine the smallest number that doesn't exist in the set. Write a program to output all permutations of numbers 1 to N.\n",
    "\n",
    "If all number are distinct than it is easy: just sum up 1:n and subtract sum of your numbers. If they are not distinct sort both arrays and subtract first n-1 elements from each other. The first non-zero will give the index of the missing number.\n",
    "Permutations is more or less standard, there are many algorithms available.\n",
    "\n",
    "\n",
    "Use bucket sort,maintain a array of all zeros and size N put 1 for every number processed in the corresponding index and again go through the arrayto get the first index with a zero entry in the array.\n",
    "\n"
   ]
  },
  {
   "cell_type": "markdown",
   "metadata": {},
   "source": [
    "62) Suppose we hire you, and you and the rest of the new  interns decide to go buy a cup of coffee. Each intern purchases one cup of coffee. One of the interns suggests everyone play a game. Everyone will flip a fair coin, dividing the group of interns into two subgroups: those that got heads and those that got tails. The game is this: whichever group is smaller evenly splits the cost of everyone's cup of coffee (i.e. if there are 5 interns, 3 get H, 2 get T, then the two interns that got tails each buy 2.5 cups of coffee). However, nothing says you need to play this game. You can choose to buy your own cup of coffee and not play the game at all. The question: Should you play this game? (Note: You may assume that there is an odd number of interns, so there are no ties, and that if everyone gets H or everyone gets T, then everyone loses and just buys their own cup of coffee)."
   ]
  },
  {
   "cell_type": "markdown",
   "metadata": {},
   "source": [
    "＊63) You have a stick of length 1, and you break it at a (uniformly) random position along its length. Take the longer of the two resulting sticks, and break it somewhere randomly along its length. What is the probability that you can make a triangle out of the three pieces?  \n",
    "\n",
    "https://www.glassdoor.com/Interview/You-have-a-stick-of-length-1-and-you-break-it-at-a-uniformly-random-position-along-its-length-Take-the-longer-of-the-tw-QTN_271302.htm\n",
    "\n",
    "Condition to make a triangle: with c being the longest side, a + b &gt;= c. Say that the first cut yields the \"short stick\" of length x. Then the second cut yields a \"longer stick\" of length z. Derive the condition that z &lt; 1/2 for a triangle to be formed, using symmetry arguments and the initial inequality. Derive that means that you can make a second cut somewhere in length x, along the stick that has length (1-x). The probability of making such a cut is x/(1-x). Integrate for all possible x's, which is 0 to 0.5 because of symmetry of the initial break. Therefore the answer is integral from 0 to 0.5 of x*dx/(1-x).\n",
    "\n",
    "Took me about 20 minutes to get to the answer because I barked up some wrong trees. Apparently that wasn't fast enough for the interviewer, which I can appreciate---it is Goldman, after all."
   ]
  },
  {
   "cell_type": "markdown",
   "metadata": {},
   "source": [
    "*64) You have 4 cards, 2 black and 2 red. You play a game where during each round you draw a card. If it's black, you lose a point. If it's red, you gain a point. You can chose to stop at any time. What's the expected value of this game?  \n",
    " 2/3 "
   ]
  },
  {
   "cell_type": "markdown",
   "metadata": {},
   "source": [
    "*65) If two random variables have a uniform probability distribution between 0 and 1, what is the probability that their product is less than 0.5?  \n",
    "1/2 ln 2 - 1/2"
   ]
  },
  {
   "cell_type": "markdown",
   "metadata": {},
   "source": [
    "*66) Let's generate u1,u2.. from a uniforme distribution in [0,1]. What is the average stopping time T for the sum (u1+..+uT) to be greater than 1 ?  \n",
    "\n",
    "note: P(s_n<1) belongs to P(s_{n-1}<1 ) \n",
    "e \n",
    "https://math.stackexchange.com/questions/214399/summing-0-1-uniform-random-variables-up-to-1\n",
    "\n"
   ]
  },
  {
   "cell_type": "markdown",
   "metadata": {},
   "source": [
    "\n",
    "66) 1.Name the OLS model assumptions.  \n",
    "green book p 53\n",
    "https://www.albert.io/blog/key-assumptions-of-ols-econometrics-review/\n",
    "A1. The linear regression model is “linear in parameters.”\n",
    "\n",
    "A2. There is a random sampling of observations.\n",
    "\n",
    "A3. The conditional mean should be zero.\n",
    "\n",
    "A4. There is no multi-collinearity (or perfect collinearity).\n",
    "\n",
    "A5. Spherical errors: There is homoscedasticity and no autocorrelation\n",
    "\n",
    "A6: Optional Assumption: Error terms should be normally distributed."
   ]
  },
  {
   "cell_type": "markdown",
   "metadata": {},
   "source": [
    "\n",
    "67) three markets drivers: \n",
    "social drivers: population, youth, sustainability, altrism, independent lifestyle\n",
    "technology driver: social networking, mobile technology, payment system\n",
    "economic drivers: incresed population, strained resources, economic disoarity, idle inventorym inaccessible luxuries, vc funding."
   ]
  },
  {
   "cell_type": "markdown",
   "metadata": {},
   "source": [
    "68) clock angle"
   ]
  },
  {
   "cell_type": "markdown",
   "metadata": {},
   "source": [
    "69)What is the number of coins you need to flip simultaneously to have at least a 90% chance of getting at least one head?  \n",
    "\n",
    "1 - 0.5^n > 0.9 ; n <0.1; n ;= 3.32"
   ]
  },
  {
   "cell_type": "markdown",
   "metadata": {},
   "source": [
    "70) Person A flips a coin. If he lands heads, he wins. If he lands tails, player B flips the coin. If player B lands heads, he wins. If he lands tails, player A goes again, until somebody lands heads. What is the probability that player A will win this game?  \n",
    "\n",
    "2/3"
   ]
  },
  {
   "cell_type": "markdown",
   "metadata": {},
   "source": [
    "71)There is a game where you roll a die. You win money for whatever you roll ($1 if you roll a 1, $2 if you roll a 2, etc). If you are unhappy with your first roll, you are able to roll the die a second time. If you roll the die a second time, only your second roll determines the payout. What is a fair price to charge to play this game?  \n",
    "\n",
    "$4.25.\n",
    "You must determine expected value of the game. Expected value of a die is 3.5. If you roll a 1/2/3 you will roll the die a second time, giving you an expected value of 3.5 again. If you roll a 4/5/6 you will keep your current roll. (3.5*0.5)+(4*1/6)+(5*1/6)+(6*1/6)=4.25"
   ]
  },
  {
   "cell_type": "markdown",
   "metadata": {},
   "source": [
    "72)One question I remember from the Superday was the St. Petersburg paradox.  \n",
    "\n",
    "https://en.wikipedia.org/wiki/St._Petersburg_paradox\n",
    "\n",
    "The St. Petersburg paradox or St. Petersburg lottery[1] is a paradox related to probability and decision theory in economics. It is based on a particular (theoretical) lottery game that leads to a random variable with infinite expected value (i.e., infinite expected payoff) but nevertheless seems to be worth only a very small amount to the participants. The St. Petersburg paradox is a situation where a naive decision criterion which takes only the expected value into account predicts a course of action that presumably no actual person would be willing to take. Several resolutions are possible."
   ]
  },
  {
   "cell_type": "markdown",
   "metadata": {},
   "source": [
    "73) what algorithm could you propose fro sorting positive or negative integers from a set?  "
   ]
  },
  {
   "cell_type": "markdown",
   "metadata": {},
   "source": [
    "74) Optimization problems using lagrange optimizer."
   ]
  },
  {
   "cell_type": "markdown",
   "metadata": {},
   "source": [
    "75) Statistics problems: binomial distribution and law of large number.  \n",
    "In probability theory and statistics, the binomial distribution with parameters n and p is the discrete probability distribution of the number of successes in a sequence of n independent experiments, each asking a yes–no question, and each with its own boolean-valued outcome: a random variable containing single bit of information: success/yes/true/one (with probability p) or failure/no/false/zero (with probability q = 1 − p). \n",
    "\n",
    "In probability theory, the law of large numbers (LLN) is a theorem that describes the result of performing the same experiment a large number of times. According to the law, the average of the results obtained from a large number of trials should be close to the expected value, and will tend to become closer as more trials are performed.\n"
   ]
  },
  {
   "cell_type": "markdown",
   "metadata": {},
   "source": [
    "75) what is the difference between structure and class in C++  \n",
    "https://www.geeksforgeeks.org/g-fact-76/\n",
    "\n",
    "In C++, a structure is same as class except the following differences:\n",
    "\n",
    "1) Members of a class are private by default and members of struct are public by default.\n",
    "For example program 1 fails in compilation and program 2 works fine.\n",
    "\n",
    "2) When deriving a struct from a class/struct, default access-specifier for a base class/struct is public. And when deriving a class, default access specifier is private.\n",
    "For example program 3 fails in compilation and program 4 works fine.\n"
   ]
  },
  {
   "cell_type": "markdown",
   "metadata": {},
   "source": [
    "76) There are 3 boxes. Each box includes 2 balls. The first one  includes 2 black ball, the second one includes one black and one white and the last one includes 2 white balls. Pick 2 balls from one box. The first one is white. Then, what's the probability that the second one is also be a white?\n",
    "\n",
    "2/3"
   ]
  },
  {
   "cell_type": "markdown",
   "metadata": {},
   "source": [
    "*77) A dice is rolled twice, what is the probability that on the  second chance it would be 6."
   ]
  },
  {
   "cell_type": "markdown",
   "metadata": {},
   "source": [
    "78) What is the different between void pointer and Null pointer. \n",
    "\n",
    "Null pointer is a special reserved value of a pointer. A pointer of any type has such a reserved value. Formally, each specific pointer type (int *, char * etc.) has its own dedicated null-pointer value. Conceptually, when a pointer has that null value it is not pointing anywhere.\n",
    "\n",
    "Void pointer is a specific pointer type - void * - a pointer that points to some data location in storage, which doesn't have any specific type.\n",
    "\n",
    "So, once again, null pointer is a value, while void pointer is a type. These concepts are totally different and non-comparable. That essentially means that your question, as stated, is not exactly valid. It is like asking, for example, \"What is the difference between a triangle and a car?\".\n"
   ]
  },
  {
   "cell_type": "markdown",
   "metadata": {},
   "source": [
    "*79)  Assume you and a professor plan to meet from 10:00 to 10:50, you will at most wait for 15 mins and the professor will at most wait for 10 mins. What's the time window when you can meet the professor with highest possibility.  \n"
   ]
  },
  {
   "cell_type": "markdown",
   "metadata": {},
   "source": [
    "\n",
    "80) deep copy and shallow coppy and copy assignment \n",
    "\n",
    "Normal assignment operations will simply point the new variable towards the existing object. The docs explain the difference between shallow and deep copies:\n",
    "\n",
    "The difference between shallow and deep copying is only relevant for compound objects (objects that contain other objects, like lists or class instances):\n",
    "\n",
    "A shallow copy constructs a new compound object and then (to the extent possible) inserts references into it to the objects found in the original.\n",
    "A deep copy constructs a new compound object and then, recursively, inserts copies into it of the objects found in the original.\n",
    "Here's a little demonstration:\n",
    "\n",
    "import copy\n",
    "\n",
    "a = [1, 2, 3]\n",
    "b = [4, 5, 6]\n",
    "c = [a, b]\n",
    "Using normal assignment operatings to copy:\n",
    "\n",
    "d = c\n",
    "\n",
    "print id(c) == id(d)          # True - d is the same object as c\n",
    "print id(c[0]) == id(d[0])    # True - d[0] is the same object as c[0]\n",
    "Using a shallow copy:\n",
    "\n",
    "d = copy.copy(c)\n",
    "\n",
    "print id(c) == id(d)          # False - d is now a new object\n",
    "print id(c[0]) == id(d[0])    # True - d[0] is the same object as c[0]\n",
    "Using a deep copy:\n",
    "\n",
    "d = copy.deepcopy(c)\n",
    "\n",
    "print id(c) == id(d)          # False - d is now a new object\n",
    "print id(c[0]) == id(d[0])    # False - d[0] is now a new objectv\n"
   ]
  },
  {
   "cell_type": "markdown",
   "metadata": {},
   "source": [
    "\n",
    "81) differences between queue and stack\n",
    "https://techwelkin.com/differences-between-stack-and-queue\n",
    "\n",
    "#\tSTACK\tQUEUE\n",
    "1\tObjects are inserted and removed at the same end.\tObjects are inserted and removed from different ends.\n",
    "2\tIn stacks only one pointer is used. It points to the top of the stack.\tIn queues, two different pointers are used for front and rear ends.\n",
    "3\tIn stacks, the last inserted object is first to come out.\tIn queues, the object inserted first is first deleted.\n",
    "4\tStacks follow Last In First Out (LIFO) order.\tQueues following First In First Out (FIFO) order.\n",
    "5\tStack operations are called push and pop.\tQueue operations are called enqueue and dequeue.\n",
    "6\tStacks are visualized as vertical collections.\tQueues are visualized as horizontal collections.\n",
    "7\tCollection of dinner plates at a wedding reception is an example of stack.\tPeople standing in a file to board a bus is an example of queue."
   ]
  },
  {
   "cell_type": "markdown",
   "metadata": {},
   "source": [
    "\n",
    "82) What are type 1 error and type 2 error? what is p-value  \n",
    "\n",
    "In statistical hypothesis testing, a type I error is the incorrect rejection of a true null hypothesis (also known as a \"false positive\" finding), while a type II error is incorrectly retaining a false null hypothesis (also known as a \"false negative\" finding). More simply stated, a type I error is to falsely infer the existence of something that is not there, while a type II error is to falsely infer the absence of something that is.\n",
    "\n",
    "In statistical hypothesis testing, the p-value or probability value or asymptotic significance is the probability for a given statistical model that, when the null hypothesis is true, the statistical summary (such as the sample mean difference between two compared groups) would be the same as or of greater magnitude than the actual observed results.\n"
   ]
  },
  {
   "cell_type": "markdown",
   "metadata": {},
   "source": [
    "\n",
    "83)how many combinations that have at least one five from zero to 1000  \n",
    "\n",
    "xyz\n",
    "x=5, y(0..9) z(0..9) =&gt; 10x10 = 100\n",
    "y=5 x(0..4,6..9) z(0..9) =&gt; 9x10 = 90\n",
    "z=5 x(0..4,6..9) y(0..4,6..9) =&gt; 9x9 =81\n",
    "\n",
    "100+90+81 = 271\n",
    "\n",
    "typo...10^3-9^3"
   ]
  },
  {
   "cell_type": "markdown",
   "metadata": {},
   "source": [
    "84) empty class size\n",
    "Not zero.\n",
    "Compiler specific.\n",
    "Usually char = 1Byte\n"
   ]
  },
  {
   "cell_type": "markdown",
   "metadata": {},
   "source": [
    "\n",
    "84) what are the variables involving BS pricing?\n",
    "\n",
    "1.Time to expiration\n",
    "2.Volatility of the underlying\n",
    "3.Risk free Rate\n",
    "4.Strike Price\n",
    "5.Asset current price"
   ]
  },
  {
   "cell_type": "markdown",
   "metadata": {},
   "source": [
    "\n",
    "85) You have 100 coins on the table. 10 are heads, 90 are tails. You are blindfolded but you can arrange the coins. How can you make 2 piles of coins with the same number of heads?  \n",
    "\n",
    "Divide the pile into two random piles of 10 coins and 90 coins each, then the first pile has y heads and the second pile has 10-y heads, flip all the coins in the first pile they now have 10-y heads, same as the second pile.\n"
   ]
  },
  {
   "cell_type": "markdown",
   "metadata": {},
   "source": [
    "\n",
    "* 86) If I have 4 boxes to play with you, under one which there is $100. Every time you play you have to pay $x .How much should x be so that the game is fair. You can play as many times as you want.\n",
    "\n"
   ]
  },
  {
   "cell_type": "markdown",
   "metadata": {},
   "source": [
    "\n",
    "87)What is the probability of forming a acute triangle from  three random dots in a circle\n",
    "note : it is acute triangle\n",
    "\n",
    "1/4, three points not in the same semi circle \n"
   ]
  },
  {
   "cell_type": "markdown",
   "metadata": {},
   "source": [
    "\n",
    "88) Explain ROC  \n",
    "https://www.medcalc.org/manual/roc-curves.php\n"
   ]
  },
  {
   "cell_type": "markdown",
   "metadata": {},
   "source": [
    "\n",
    "89) object in java\n",
    "\n",
    "Creating an Object\n",
    "As mentioned previously, a class provides the blueprints for objects. So basically, an object is created from a class. In Java, the new keyword is used to create new objects.\n",
    "\n",
    "There are three steps when creating an object from a class −\n",
    "\n",
    "Declaration − A variable declaration with a variable name with an object type.\n",
    "\n",
    "Instantiation − The 'new' keyword is used to create the object.\n",
    "\n",
    "Initialization − The 'new' keyword is followed by a call to a constructor. This call initializes the new object.\n",
    "\n",
    "Following is an example of creating an object −\n",
    "\n",
    "Example\n",
    " Live Demo\n",
    "public class Puppy {\n",
    "   public Puppy(String name) {\n",
    "      // This constructor has one parameter, name.\n",
    "      System.out.println(\"Passed Name is :\" + name );\n",
    "   }\n",
    "\n",
    "   public static void main(String []args) {\n",
    "      // Following statement would create an object myPuppy\n",
    "      Puppy myPuppy = new Puppy( \"tommy\" );\n",
    "   }\n",
    "}\n"
   ]
  },
  {
   "cell_type": "markdown",
   "metadata": {},
   "source": [
    "\n",
    "90) how to simulate random normal number\n",
    "green book p185\n"
   ]
  },
  {
   "cell_type": "markdown",
   "metadata": {},
   "source": [
    "\n",
    "91) heat equation \n",
    "https://en.wikipedia.org/wiki/Heat_equation\n"
   ]
  },
  {
   "cell_type": "markdown",
   "metadata": {},
   "source": [
    "\n",
    "92) wave equation \n",
    "https://en.wikipedia.org/wiki/Wave_equation\n"
   ]
  },
  {
   "cell_type": "markdown",
   "metadata": {},
   "source": [
    "\n",
    "93) static in java \n",
    "https://www.javatpoint.com/static-keyword-in-java\n"
   ]
  },
  {
   "cell_type": "markdown",
   "metadata": {},
   "source": [
    "\n",
    "94) difference of class, public, protected and private in java \n",
    "https://docs.oracle.com/javase/tutorial/java/javaOO/accesscontrol.html\n"
   ]
  },
  {
   "cell_type": "markdown",
   "metadata": {},
   "source": [
    "\n",
    "95) Largest Sum Contiguous Subarray\n",
    "import java.io.*;\n",
    "// Java program to print largest contiguous array sum\n",
    "import java.util.*;\n",
    "\n",
    "class Kadane\n",
    "{\n",
    "    public static void main (String[] args)\n",
    "    {\n",
    "        int [] a = {-2, -3, 4, -1, -2, 1, 5, -3};\n",
    "        System.out.println(\"Maximum contiguous sum is \" +\n",
    "                                       maxSubArray(a));\n",
    "    }\n",
    " \n",
    "    public int maxSubArray(int[] A) {\n",
    "        int n = A.length;\n",
    "        int[] dp = new int[n];//dp[i] means the maximum subarray ending with A[i];\n",
    "        dp[0] = A[0];\n",
    "        int max = dp[0];\n",
    "        \n",
    "        for(int i = 1; i < n; i++){\n",
    "            dp[i] = A[i] + (dp[i - 1] > 0 ? dp[i - 1] : 0);\n",
    "            max = Math.max(max, dp[i]);\n",
    "        }\n",
    "        \n",
    "        return max;\n",
    "}\n",
    "}"
   ]
  },
  {
   "cell_type": "markdown",
   "metadata": {},
   "source": [
    "\n",
    "96) how to realize a stack by priority queue or heap\n",
    "\n",
    "In priority queue, we assign priority to the elements that are being pushed. A stack requires elements to be processed in Last in First Out manner. The idea is to associate a count that determines when it was pushed. This count works as a key for the priority queue.\n",
    "\n",
    "So the implementation of stack uses a priority queue of pairs, with the first element serving as the key.\n",
    "\n",
    "https://www.geeksforgeeks.org/implement-stack-using-priority-queue-or-heap/\n"
   ]
  },
  {
   "cell_type": "markdown",
   "metadata": {},
   "source": [
    "\n",
    "97) Implement Queue using Stacks\n",
    "The problem is opposite of this post. We are given a stack data structure with push and pop operations, the task is to implement a queue using instances of stack data structure and operations on them.\n",
    "A queue can be implemented using two stacks. Let queue to be implemented be q and stacks used to implement q be stack1 and stack2. q can be implemented in two ways:\n",
    "\n",
    "https://www.geeksforgeeks.org/queue-using-stacks/"
   ]
  },
  {
   "cell_type": "markdown",
   "metadata": {},
   "source": [
    "\n",
    "98) Implement Stacks using queue\n",
    "https://www.geeksforgeeks.org/implement-stack-using-queue/\n",
    "\n",
    "Version A (efficient push):\n",
    "\n",
    "push:\n",
    "enqueue in queue1\n",
    "pop:\n",
    "while size of queue1 is bigger than 1, pipe dequeued items from queue1 into queue2\n",
    "dequeue and return the last item of queue1, then switch the names of queue1 and queue2\n",
    "Version B (efficient pop):\n",
    "\n",
    "push:\n",
    "enqueue in queue2\n",
    "enqueue all items of queue1 in queue2, then switch the names of queue1 and queue2\n",
    "pop:\n",
    "deqeue from queue1"
   ]
  },
  {
   "cell_type": "markdown",
   "metadata": {},
   "source": [
    "\n",
    "99) Expected Value of Local Maxima and Local Minima\n",
    "\n",
    "link: https://math.stackexchange.com/questions/680660/expected-value-of-local-maxima-and-local-minima\n"
   ]
  },
  {
   "cell_type": "markdown",
   "metadata": {},
   "source": [
    "\n",
    "100 ) find kth largest number in an unsorted array \n",
    "link : https://www.geeksforgeeks.org/kth-smallestlargest-element-unsorted-array/\n"
   ]
  },
  {
   "cell_type": "markdown",
   "metadata": {},
   "source": [
    "\n",
    "101) what algorithm could you propose for sorting positive or negative integers from a set?   \n",
    "quick sort and pivot, o(n) time and o(1) space\n"
   ]
  },
  {
   "cell_type": "markdown",
   "metadata": {},
   "source": [
    "\n",
    "102) empty class size\n",
    "\n",
    "The standard does not allow objects (and classes thereof) of size 0, since that would make it possible for two distinct objects to have the same memory address. That's why even empty classes must have a size of (at least) 1.\n"
   ]
  },
  {
   "cell_type": "markdown",
   "metadata": {},
   "source": [
    "\n",
    "103) Derive \"uv\" integral rule from any differentiation identity you remember. You can use only \"basic\" identities and no \"advanced\" calculus in your derivation.   \n",
    "\n",
    "\n",
    "Not sure, but...\n",
    "\n",
    "Let u and v be functions of x. Start with product rule of differentiation:\n",
    "\n",
    "d(u*v)/dx= u*(dv/dx) + v*(du/dx)\n",
    "\n",
    "Multiply both sides by dx:\n",
    "\n",
    "d(u*v) = u*dv + v*du\n",
    "\n",
    "Integrate:\n",
    "\n",
    "u*v = integral(u*dv) + integral(v*du)\n",
    "\n",
    "Rearrange to get formula for integration by parts:\n",
    "\n",
    "integral(u*dv) = u*v - integral(v*du)"
   ]
  },
  {
   "cell_type": "markdown",
   "metadata": {},
   "source": [
    "\n",
    "104)  What is the probability of forming a acute triangle from three random dots in a circle   \n",
    "1/4 \n",
    "\n",
    "same as the points forms a circle problem \n",
    "\n"
   ]
  },
  {
   "cell_type": "markdown",
   "metadata": {},
   "source": [
    "\n",
    "105) Is there any other way in option pricing method?\n",
    "\n",
    "https://www.linkedin.com/pulse/option-pricing-black-scholes-v-binomial-monte-carlo-stringham/\n",
    "\n",
    "I love financial options. I love to trade options and I love valuing options because they’re different and present some unique challenges in figuring out their worth. They’ve gotten a little bit of a bad rap in the news because they can be risky. But if used correctly, they can actually present less risk than owning the stock itself. And because of the use of leverage, the returns can be greater as well.\n",
    "\n",
    "I’ve been working on a couple option valuations lately, and maybe this shows how big of a nerd I am, but I find them very interesting. Anyone that’s ever dealt with options has heard of the Black-Scholes model of valuing options. But did you know there are other, more-flexible methods for valuing options? Below is a summary of a couple of the different option valuation methods, along with their strengths and weaknesses.\n",
    "\n",
    "Black-Scholes\n",
    "\n",
    "The Black-Scholes model is the most popular method for valuing options and can be quite accurate. It relies on fixed inputs (current stock price, strike price, time until expiration, volatility, risk free rates, and dividend yield). The good thing is, you don’t have to be a math whiz, just find the right inputs and use a good online calculator (here’s a decent one). For most regular options, using a Black-Scholes model is good enough. The downside to the Black-Scholes model is that it’s a black box calculator and it doesn’t offer the flexibility required to value options with non-standard features, such as a price reset feature or a mandatory exercise requirement.\n",
    "\n",
    "Binomial models\n",
    "\n",
    "In contrast to the Black Scholes model, a binomial model breaks down the time to expiration into a number of time intervals, or steps. At each step, the model predicts two possible moves for the stock price, (one up and one down) by an amount calculated using volatility and time to expiration. This produces a binomial distribution of underlying stock prices. The model produced is a theoretical representation of all the possible paths that the stock price could take during the life of the option.\n",
    "\n",
    "At the end of the model -- i.e. at expiration of the option -- all the terminal option prices for each of the final possible stock prices are known as they simply equal their intrinsic values.\n",
    "\n",
    "Next the option prices at each step of the model are calculated working back from expiration to the present. The option prices at each step are used to derive the option prices at the next step of the model. Any adjustments to stock prices (at an ex-dividend date) or option prices (as a result of early exercise of American options) are worked into the calculations at the required point in time. As you work your way back to the present, you are left with one option price.\n",
    "\n",
    "It should be noted that if no alterations are made and the same inputs as a Black-Scholes model are used, and when using a sufficient number of steps, the results of the binomial model and a Black Scholes model will be identical. However, the binomial model also offers more flexibility because the user can alter the inputs at each step in the process to account for differences in the ability to exercise a particular option that shows non-standard features. The downside is that binomial models are complex to construct and depending on the number of steps used in the model, can be incredibly unwieldy in terms of size of the spreadsheet and computing power needed to run.\n",
    "\n",
    "Monte Carlo Simulation\n",
    "\n",
    "Monte Carlo simulation uses computerized modeling to predict outcomes. The model first generates a random number based on a probability distribution. The random number then uses the additional inputs of volatility and time to expiration to generate a stock price. The generated stock price at the time of expiration is then used to calculate the value of the option. The model then calculates results over and over, each time using a different set of random values from the probability functions. Depending upon the model, the number of uncertainties and the probability distributions used, a Monte Carlo simulation could involve thousands or tens of thousands of recalculations before it is complete. For option models, Monte Carlo simulation typically relies on the average of all the calculated results as the option price.\n",
    "\n",
    "In some ways the Monte Carlo provides the best of both the Black-Scholes and binomial worlds. With the right software, (here’s a good, inexpensive option) you can provide the inputs and let the model do its thing, ultimately spitting out a result (although it takes a little longer than the Black-Scholes calculation). And while it isn’t as unwieldy to use a binomial model, it still provides flexibility in the inputs that can be used.\n"
   ]
  },
  {
   "cell_type": "markdown",
   "metadata": {},
   "source": [
    "\n",
    "106) what is the complete market? \n",
    "\n",
    "(Complete market). A general multi period market model is called complete,\n",
    "if and only if for any contingent claim X there exists a replicating strategy ϕ. A model which is\n",
    "not complete is called incomplete\n"
   ]
  },
  {
   "cell_type": "markdown",
   "metadata": {},
   "source": [
    "\n",
    "107) expected shortfall advantages and disvantages \n",
    "Advantages of expected shortfall\n",
    "\n",
    "As Artzner et al (1999) pointed out some time ago, ES has better theoretical properties than VAR. If two portfolios are combined, the total ES usually decreases - reflecting the benefits of diversification – and certainly never increases. By contrast, the total VAR can – and in practice occasionally does – increase. This is discussed in Hull (2006). To use the terminology of Artzner et al, ES is \"coherent\" because it has certain fundamental properties they consider such a measure should have. In particular, ES never increases as portfolios are diversified. VAR is not coherent because it does not have this particular property.\n",
    "\n",
    "There is a more pragmatic reason for preferring ES to VAR in risk management. It is tempting for a trader to follow a trading strategy that is nearly always profitable, but occasionally blows up.5 This strategy should be prevented by an ES risk limit, but may be possible when a VAR risk limit is used. Many banks have used ES internally for years, even though VAR is necessary to satisfy regulatory requirements.\n",
    "\n",
    "Back-testing and accuracy\n",
    "\n",
    "Expected shortfall has disadvantages as well as advantages, of course. First, it is difficult to back-test. When a one-day 99% VAR model based on the most recent historical data is being back-tested, we can observe the number of exceptions that would have been encountered if the model had been used in the past, and test whether this is significantly different from what is expected. Back-testing a one-day ES model is much more challenging, because we are interested in the average size of the losses when exceptions are observed. A back-testing period of 250 days is usually used by regulators. This can be expected to give about 6 exceptions when a 97.5% confidence limit is used, which is a small sample. However, Acerbi and Szekely (2014) seem to get reasonable results when experimenting with three different tests of ES and standard distributions.\n",
    "\n",
    "A key point is that back-testing a stressed model, whether VAR or ES, is not possible because we are interested in whether the model performs well for another stressed period, but we do not have another such period to use for testing. The use of varying time horizons in FRTB is an added complication in back-testing.\n",
    "\n",
    "The Basel Committee has presumably recognised this because the review requires the back-testing of a one-day VAR model calculated in the usual way from recent historical data. We are therefore in the strange position where the risk measure being back-tested is quite different from that used to calculate capital.\n",
    "\n",
    "Another disadvantage of ES is that estimates of the measure may not be as accurate as estimates of VAR. Yamai and Yoshiba (2002) looked at this. They found that for a certain number of observations and a certain confidence level, the accuracy of VAR and ES is about the same when the loss is normally distributed, but that VAR estimates are more accurate than ES estimates when the losses have fat tails.6 This means capital calculated from ES may be less stable than capital calculated from VAR."
   ]
  },
  {
   "cell_type": "markdown",
   "metadata": {},
   "source": [
    "\n",
    "108) difference between option and futures \n",
    "https://www.investopedia.com/ask/answers/05/060505.asp\n",
    "\n",
    "The main fundamental difference between options and futures lies in the obligations they put on their buyers and sellers. An option gives the buyer the right, but not the obligation to buy (or sell) a certain asset at a specific price at any time during the life of the contract. A futures contract gives the buyer the obligation to purchase a specific asset, and the seller to sell and deliver that asset at a specific future date, unless the holder's position is closed prior to expiration.\n",
    "\n",
    "Another key difference between options and futures is the size of the underlying position. Generally, the underlying position is much larger for futures contracts, and the obligation to buy or sell this certain amount at a given price makes futures more risky for the inexperienced investor.\n"
   ]
  },
  {
   "cell_type": "markdown",
   "metadata": {},
   "source": [
    "\n",
    "109) what is the realized volatility \n",
    "Sometimes referred to as the historical volatility, this term usually used in the context of derivatives. While the implied volatility refers to the market's assessment of future volatility, the realized volatility measures what actually happened in the past. The measurement of the volatility depends on the particular situation. For example, one could calculate the realized volatility for the equity market in March of 2003 by taking the standard deviation of the daily returns within that month. One could look at the realized volatility between 10:00AM and 11:00AM on June 23, 2003 by calculating the standard deviation of one minute returns.\n"
   ]
  },
  {
   "cell_type": "markdown",
   "metadata": {},
   "source": [
    "\n",
    "110 what is the implied volatility ?\n",
    "\n",
    "https://en.wikipedia.org/wiki/Implied_volatility\n",
    "\n",
    "In financial mathematics, the implied volatility of an option contract is that value of the volatility of the underlying instrument which, when input in an option pricing model (such as Black–Scholes) will return a theoretical value equal to the current market price of the option. A non-option financial instrument that has embedded optionality, such as an interest rate cap, can also have an implied volatility. Implied volatility, a forward-looking and subjective measure, differs from historical volatility because the latter is calculated from known past returns of a security.\n"
   ]
  },
  {
   "cell_type": "markdown",
   "metadata": {},
   "source": [
    "\n",
    "111) sum and product of normal distribution \n",
    "sum:https://math.stackexchange.com/questions/101062/is-the-product-of-two-gaussian-random-variables-also-a-gaussian\n",
    "product:https://math.stackexchange.com/questions/101062/is-the-product-of-two-gaussian-random-variables-also-a-gaussian\n"
   ]
  },
  {
   "cell_type": "markdown",
   "metadata": {},
   "source": [
    "\n",
    "112) name hiding\n",
    "\n",
    "http://thesyntacticsugar.blogspot.com/2011/10/behind-scenes-name-hiding-in-c.html\n",
    "\n",
    "https://www.geeksforgeeks.org/g-fact-89/\n",
    "\n",
    "Name hiding happens when an overloaded member function is declared in the scope of a derived class. Here is an example:\n",
    "\n",
    "class Base\n",
    "{\n",
    "public:\n",
    "    virtual ~Base() {}\n",
    " \n",
    "    virtual void someFunction() const;\n",
    "    virtual void someFunction(int x) const;\n",
    "};\n",
    " \n",
    "void Base::someFunction() const {}\n",
    "void Base::someFunction(int x) const {}\n",
    " \n",
    "class Derived : public Base\n",
    "{\n",
    "public:\n",
    "    void someFunction() const;\n",
    "};\n",
    " \n",
    "void Derived::someFunction() const {}\n",
    " \n",
    "int main(int argc, char **argv)\n",
    "{\n",
    "    Derived d;\n",
    "    d.someFunction(123);         \n",
    " \n",
    "    return 0;\n",
    "}\n",
    "\n",
    "how to make it visible\n",
    "That is the way the language is designed - names in inner scopes hide names in outer scopes. Here the derived class acts as an inner scope and the base class as an outer scope.\n",
    "\n",
    "The fact that the functions would be considered overloads if they were in the same scope, doesn't matter. The hiding works on the names, not on individual functions.\n",
    "\n",
    "You can override the default, by explicitly adding the name to the derived class:\n",
    "\n",
    "class Derived : public Base {\n",
    "public:\n",
    "    using Base::methodA;   // Now it is visible!\n",
    "\n",
    "    void methodA(int i) { cout << \"Derived.methodA(int i)\" << endl ;}\n",
    "};\n"
   ]
  },
  {
   "cell_type": "markdown",
   "metadata": {},
   "source": [
    "113) which of the following series converges?\n",
    "\n",
    "yp 46/"
   ]
  },
  {
   "cell_type": "markdown",
   "metadata": {},
   "source": [
    "114) Derive the Black-Scholes PDE\n",
    "\n",
    "yp 53/"
   ]
  },
  {
   "cell_type": "markdown",
   "metadata": {},
   "source": [
    "115) Show that any covariance matrix is symmetric positive definite. Show that the same is true for correlation matrix\n",
    "\n",
    "yp 56"
   ]
  },
  {
   "cell_type": "markdown",
   "metadata": {},
   "source": [
    "116) find the upper and lower bound of correlation matrix\n",
    "\n",
    "yp59/"
   ]
  },
  {
   "cell_type": "markdown",
   "metadata": {},
   "source": [
    "117) show that the traces of AB and BA are same\n",
    "\n",
    "yp68"
   ]
  },
  {
   "cell_type": "markdown",
   "metadata": {},
   "source": [
    "118) the product of two probablity matrix is probability matrix\n",
    "\n",
    "yp 70/"
   ]
  },
  {
   "cell_type": "markdown",
   "metadata": {},
   "source": [
    "119) find values that is a correlation matrix\n",
    "\n",
    "yp 71/"
   ]
  },
  {
   "cell_type": "markdown",
   "metadata": {},
   "source": [
    "120) waht is the risk neutral pricing\n",
    "\n",
    "yp 79/"
   ]
  },
  {
   "cell_type": "markdown",
   "metadata": {
    "collapsed": true
   },
   "source": [
    "121) Describe that how you arrive the black scholes formula \n",
    "\n",
    "yp 80\n"
   ]
  },
  {
   "cell_type": "markdown",
   "metadata": {
    "collapsed": true
   },
   "source": [
    "122) price of at the money option\n",
    "\n",
    "yp 81/"
   ]
  },
  {
   "cell_type": "markdown",
   "metadata": {
    "collapsed": true
   },
   "source": [
    "123) if the price of a stock in one day, by how much will the value of a call option on this stock changes?\n",
    "\n",
    "yp 81/"
   ]
  },
  {
   "cell_type": "markdown",
   "metadata": {
    "collapsed": true
   },
   "source": [
    "124) what a re the smallest and largest values that delta can take\n",
    "\n",
    "yp 83/"
   ]
  },
  {
   "cell_type": "markdown",
   "metadata": {
    "collapsed": true
   },
   "source": [
    "125) Dela of at the money call, delta of at the money put\n",
    "\n",
    "yp 85/"
   ]
  },
  {
   "cell_type": "markdown",
   "metadata": {
    "collapsed": true
   },
   "source": [
    "126) put call parity \n",
    "\n",
    "yp 85 / "
   ]
  },
  {
   "cell_type": "markdown",
   "metadata": {
    "collapsed": true
   },
   "source": [
    "127) show that the time value of a European call option is highest at the money \n",
    "\n",
    "yp 87/\n"
   ]
  },
  {
   "cell_type": "markdown",
   "metadata": {
    "collapsed": true
   },
   "source": [
    "128) what is implied volatility? what is a volatility smile and what is volatility skew?\n",
    "\n",
    "yp 89/"
   ]
  },
  {
   "cell_type": "markdown",
   "metadata": {
    "collapsed": true
   },
   "source": [
    "129 ) what is gamma of an option \n",
    "\n",
    "yp 91/ "
   ]
  },
  {
   "cell_type": "markdown",
   "metadata": {},
   "source": [
    "130 ) when are the Eupopean call and European put same\n",
    "\n",
    "yp 92/ "
   ]
  },
  {
   "cell_type": "markdown",
   "metadata": {
    "collapsed": true
   },
   "source": [
    "131) what is the two year volatility of an asset with 30% \n",
    "\n",
    "yp 92 "
   ]
  },
  {
   "cell_type": "markdown",
   "metadata": {
    "collapsed": true
   },
   "source": [
    "132) how do you value an interest rate swap \n",
    "\n",
    "yp 92"
   ]
  },
  {
   "cell_type": "markdown",
   "metadata": {
    "collapsed": true
   },
   "source": [
    "133) by how much will the price of a ten year zerro coupon bond change if the yield increases by ten basis, duration\n",
    "\n",
    "yp 94\n"
   ]
  },
  {
   "cell_type": "markdown",
   "metadata": {
    "collapsed": true
   },
   "source": [
    "134) waht is a forward contract, what is the forward price \n",
    "\n",
    "yp 95/ "
   ]
  },
  {
   "cell_type": "markdown",
   "metadata": {
    "collapsed": true
   },
   "source": [
    "135) forward price for treasury futures contracts, forward price for commoditties fures prices\n",
    "\n",
    "yp 96/ "
   ]
  },
  {
   "cell_type": "markdown",
   "metadata": {
    "collapsed": true
   },
   "source": [
    "136) what is the eurodollar futures contracts\n",
    "\n",
    "yp 96"
   ]
  },
  {
   "cell_type": "markdown",
   "metadata": {
    "collapsed": true
   },
   "source": [
    "137) what are the most important differences between forward and futures prices\n",
    "\n",
    "yp 97"
   ]
  },
  {
   "cell_type": "markdown",
   "metadata": {
    "collapsed": true
   },
   "source": [
    "138 ) what is the tem - day 99% var\n",
    "\n",
    "yp98"
   ]
  },
  {
   "cell_type": "markdown",
   "metadata": {
    "collapsed": true
   },
   "source": [
    "139 ) constant pointers\n",
    "\n",
    "yp 101\n",
    "\n"
   ]
  },
  {
   "cell_type": "markdown",
   "metadata": {
    "collapsed": true
   },
   "source": [
    "140) what are the important differences between using a pointer an a reference"
   ]
  },
  {
   "cell_type": "markdown",
   "metadata": {
    "collapsed": true
   },
   "source": [
    "141) explicit  \n",
    "\n",
    "yp 104"
   ]
  },
  {
   "cell_type": "markdown",
   "metadata": {
    "collapsed": true
   },
   "source": [
    "142) static\n",
    "\n",
    "yp 104"
   ]
  },
  {
   "cell_type": "markdown",
   "metadata": {
    "collapsed": true
   },
   "source": [
    "143) Can a static member function be const? \n",
    "\n",
    "yp 105 "
   ]
  },
  {
   "cell_type": "markdown",
   "metadata": {},
   "source": [
    "144) copy constructor\n",
    "\n",
    "\n",
    "yp 106"
   ]
  },
  {
   "cell_type": "markdown",
   "metadata": {},
   "source": [
    "145) compute pi montecarlo \n",
    "\n",
    "yp 115\n",
    "\n"
   ]
  },
  {
   "cell_type": "markdown",
   "metadata": {},
   "source": [
    "146) generate standard normal distribution \n",
    "\n",
    "yp 117 "
   ]
  },
  {
   "cell_type": "markdown",
   "metadata": {},
   "source": [
    "147 ) generate geometric brownian motion \n",
    "\n",
    "yp 117 "
   ]
  },
  {
   "cell_type": "markdown",
   "metadata": {
    "collapsed": true
   },
   "source": [
    "148 ) generate a sample of the standard normal dsitribution from 12 indepnedent samples of the uniform distribution on [0,1]\n",
    "\n",
    "\n",
    "yp 120"
   ]
  },
  {
   "cell_type": "markdown",
   "metadata": {
    "collapsed": true
   },
   "source": [
    "149 ) what is the rate of convergence rate for rmonte carlo \n",
    "\n",
    "yp 121 "
   ]
  },
  {
   "cell_type": "markdown",
   "metadata": {
    "collapsed": true
   },
   "source": [
    "150) variance redduction\n",
    "\n",
    "yp 121 "
   ]
  },
  {
   "cell_type": "markdown",
   "metadata": {},
   "source": [
    "151) how do you generate samples of normal variables with correlation $\\rho$\n",
    "\n",
    "yp 122"
   ]
  },
  {
   "cell_type": "markdown",
   "metadata": {
    "collapsed": true
   },
   "source": [
    "151) converrgence rate of newton's method\n",
    "\n",
    "yp 123"
   ]
  },
  {
   "cell_type": "markdown",
   "metadata": {
    "collapsed": true
   },
   "source": [
    "152) mean and variance of exponential distribution \n",
    "\n",
    "yp 125/\n",
    "\n"
   ]
  },
  {
   "cell_type": "markdown",
   "metadata": {
    "collapsed": true
   },
   "source": [
    "153) what are the expected and variance of poisson distribution \n",
    "\n",
    "yp 127/\n",
    "\n"
   ]
  },
  {
   "cell_type": "markdown",
   "metadata": {
    "collapsed": true
   },
   "source": [
    "154) expected value of the distance between \n",
    "\n",
    "yp 128"
   ]
  },
  {
   "cell_type": "markdown",
   "metadata": {
    "collapsed": true
   },
   "source": [
    "155) expected value of the ddistance between the point and the center of the disk\n",
    "\n",
    "yp 129"
   ]
  },
  {
   "cell_type": "markdown",
   "metadata": {
    "collapsed": true
   },
   "source": [
    "156) joint normal distributiton, conditional probability\n",
    "\n",
    "yp 130/"
   ]
  },
  {
   "cell_type": "markdown",
   "metadata": {
    "collapsed": true
   },
   "source": [
    "157) lognormally dsitributed\n",
    "\n",
    "yp 133\n",
    "\n"
   ]
  },
  {
   "cell_type": "markdown",
   "metadata": {},
   "source": [
    "158) expected value of $Y=\\Phi (x)$\n",
    "\n",
    "yp 133"
   ]
  },
  {
   "cell_type": "markdown",
   "metadata": {
    "collapsed": true
   },
   "source": [
    "159) law of large number \n",
    "\n",
    "yp 135\n",
    "\n"
   ]
  },
  {
   "cell_type": "markdown",
   "metadata": {
    "collapsed": true
   },
   "source": [
    "160) central limit throrem \n",
    "\n",
    "yp 136\n"
   ]
  },
  {
   "cell_type": "markdown",
   "metadata": {
    "collapsed": true
   },
   "source": [
    "161) quadratic variance \n",
    "\n",
    "yp 137"
   ]
  },
  {
   "cell_type": "markdown",
   "metadata": {
    "collapsed": true
   },
   "source": [
    "161) martingale option pricing \n",
    "\n",
    "yp 137\n"
   ]
  },
  {
   "cell_type": "markdown",
   "metadata": {
    "collapsed": true
   },
   "source": [
    "162) what is a wiener process and find $E(W_tW_s)$\n",
    "\n",
    "yp 139"
   ]
  },
  {
   "cell_type": "markdown",
   "metadata": {
    "collapsed": true
   },
   "source": [
    "163) ito isometric and martingality \n",
    "\n",
    "yp 144 and yp 145 "
   ]
  },
  {
   "cell_type": "markdown",
   "metadata": {
    "collapsed": true
   },
   "source": [
    "164) ito process and ito lemma\n",
    "\n",
    "yp 151 "
   ]
  },
  {
   "cell_type": "markdown",
   "metadata": {
    "collapsed": true
   },
   "source": [
    "165) girsonov theorem \n",
    "\n",
    "yp 157"
   ]
  },
  {
   "cell_type": "markdown",
   "metadata": {
    "collapsed": true
   },
   "source": [
    "166) martingale representation theorem\n",
    "\n",
    "yp 158"
   ]
  },
  {
   "cell_type": "markdown",
   "metadata": {
    "collapsed": true
   },
   "source": [
    "167) solve sde \n",
    "\n",
    "yp 159 \n"
   ]
  },
  {
   "cell_type": "markdown",
   "metadata": {
    "collapsed": true
   },
   "source": [
    "168) heston model \n",
    "\n",
    "yp 164"
   ]
  },
  {
   "cell_type": "markdown",
   "metadata": {
    "collapsed": true
   },
   "source": [
    "169) a fair coin is tossed n times, what is the probability that no two consecutive heads appear\n",
    "\n",
    "yp 171"
   ]
  },
  {
   "cell_type": "markdown",
   "metadata": {
    "collapsed": true
   },
   "source": [
    "170) the probability that the amoebas enentually die off\n",
    "\n",
    "yp 179"
   ]
  },
  {
   "cell_type": "markdown",
   "metadata": {
    "collapsed": true
   },
   "source": [
    "171) what is the probability that A is subset of B \n",
    "\n",
    "yp 181"
   ]
  },
  {
   "cell_type": "markdown",
   "metadata": {},
   "source": [
    "172) bigger or smaller of the two\n",
    "\n",
    "yp 182 \n",
    "\n"
   ]
  },
  {
   "cell_type": "markdown",
   "metadata": {},
   "source": [
    "173) sum of alternative signs\n",
    "\n",
    "yp 185\n"
   ]
  },
  {
   "cell_type": "markdown",
   "metadata": {},
   "source": [
    "174) tic tock toe \n",
    "\n",
    "yp 185\n",
    "\n"
   ]
  },
  {
   "cell_type": "markdown",
   "metadata": {},
   "source": [
    "175) digit numbers\n",
    "\n",
    "yp 183"
   ]
  },
  {
   "cell_type": "markdown",
   "metadata": {},
   "source": [
    "176) shake hands\n",
    "\n",
    "yp 186"
   ]
  },
  {
   "cell_type": "markdown",
   "metadata": {},
   "source": [
    "177) heavy balls\n",
    "\n",
    "yp 189 "
   ]
  },
  {
   "cell_type": "markdown",
   "metadata": {},
   "source": [
    "178) 10 room treasures \n",
    "\n",
    "yp 189"
   ]
  },
  {
   "cell_type": "markdown",
   "metadata": {},
   "source": [
    "179) cubic vertex\n",
    "\n",
    "yp 192"
   ]
  },
  {
   "cell_type": "markdown",
   "metadata": {},
   "source": [
    "180) decreasing uniform serquence\n",
    "\n",
    "yp 193"
   ]
  },
  {
   "cell_type": "markdown",
   "metadata": {},
   "source": [
    "181) smaller part of rope\n",
    "\n",
    "yp 202"
   ]
  },
  {
   "cell_type": "markdown",
   "metadata": {},
   "source": [
    "182) form a triangle \n",
    "\n",
    "yp 203"
   ]
  },
  {
   "cell_type": "markdown",
   "metadata": {},
   "source": [
    "183) Simulating a Biased Coin With a Fair One\n",
    "\n",
    "https://www.alexirpan.com/2015/08/23/simulating-a-biased-coin-with-a-fair-one.html"
   ]
  },
  {
   "cell_type": "markdown",
   "metadata": {},
   "source": [
    "184) conjugate prior\n",
    "\n",
    "https://www.youtube.com/watch?v=zXNB2vzKKIQ\n",
    "\n",
    "https://stats.stackexchange.com/questions/238089/beta-distribution-on-flipping-a-coin"
   ]
  },
  {
   "cell_type": "markdown",
   "metadata": {},
   "source": [
    "185) stoping time \n",
    "\n",
    "http://www.maths.manchester.ac.uk/~tzhang/publications/Math37001notes-2.pdf"
   ]
  },
  {
   "cell_type": "markdown",
   "metadata": {},
   "source": [
    "186) matrix incerse \n",
    "\n",
    "http://www.geertarien.com/blog/2017/05/15/different-methods-for-matrix-inversion/"
   ]
  }
 ],
 "metadata": {
  "kernelspec": {
   "display_name": "Julia 0.6.2",
   "language": "julia",
   "name": "julia-0.6"
  }
 },
 "nbformat": 4,
 "nbformat_minor": 0
}
